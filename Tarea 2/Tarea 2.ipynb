{
 "cells": [
  {
   "cell_type": "markdown",
   "source": [
    "# Tarea 2: Programación No Lineal\n",
    "## Autor: Leonard David Vivas Dallos\n",
    "\n",
    "### Instrucción: \n",
    "Esta actividad se realizará en forma individual. Las actividades a realizar son las siguientes: \n",
    "\n",
    "1. Elija un ejemplo donde se requiera encontrar los parámetros a un modelo matemático y se disponga de datos experimentales. Se solicita que el modelo sea de algo aplicado a un problema real. \n",
    "2. Implemente el método de región de confianza y de Gauss-Newton.\n",
    "3. Utilice ambos algoritmos para resolver el problema seleccionado. ¿Qué diferencias detectó?\n",
    "4. Realice un informe escrito donde describa el ejemplo seleccionado con las referencias correspondientes. Adicionalmente, muestre la solución del problema usando los dos métodos y haga una discusión de los resultados obtenidos.  \n",
    "\n",
    "Se deben subir al Moodle los siguientes archivos: \n",
    "- Informe escrito \n",
    "- Códigos usados en las implementaciones"
   ],
   "metadata": {
    "collapsed": false
   },
   "id": "32b89dc44acf6c4"
  },
  {
   "cell_type": "markdown",
   "source": [
    "### 1. Selección del problema\n",
    "Para esta tarea se seleccionó el problema de ajuste de curvas a un conjunto de datos experimentales. En particular, intentaremos ajustar un modelo exponencial a un conjunto de datos poblacionales alojados en el archivo 'PoblaciónEspaña.csv' y tomados de la página del Instituto Nacional de Estadística, con enlace \"https://www.ine.es/dyngs/INEbase/es/operacion.htm?c=Estadistica_C&cid=1254736177095&menu=ultiDatos&idp=1254735572981\". El modelo exponencial se define como:\n",
    "\n",
    "$$C(t) = C_0 e^{kt}$$\n",
    "\n",
    "Donde $C(t)$ es la población en el tiempo $t$, $C_0$ es la población inicial y $k$ es la tasa de crecimiento. El objetivo es encontrar los valores de $C_0$ y $k$ que mejor se ajusten a los datos experimentales.\n",
    "\n",
    "Para esto, se planteará el problema como un problema de optimización no lineal, donde la función objetivo a minimizar es:\n",
    "\n",
    "$$\\min_{C_0, k} \\sum_{i=1}^{n} (C_i - C_0 e^{kt_i})^2$$\n",
    "\n",
    "Donde $C_i$ es la población en el tiempo $t_i$ y $n$ es el número de datos experimentales.\n",
    "\n",
    "El conjunto de datos corresponde a la población residente en España en los años entre los años 1971 - 2024, delimitando periodos de tiempo trimestrales entre los datos (sin embargo, no se cuenta con la totalidad de los 4 trimestres en algunos años). A continuación se muestra la carga de los datos y la visualización de los mismos."
   ],
   "metadata": {
    "collapsed": false
   },
   "id": "90c828d8edc42805"
  },
  {
   "cell_type": "code",
   "execution_count": 1,
   "outputs": [
    {
     "data": {
      "text/plain": "  PERIODO       VALOR\n0  2024T1  48.592.909\n1  2023T4  48.507.039\n2  2023T3  48.373.336\n3  2023T2  48.233.001\n4  2023T1  48.085.361",
      "text/html": "<div>\n<style scoped>\n    .dataframe tbody tr th:only-of-type {\n        vertical-align: middle;\n    }\n\n    .dataframe tbody tr th {\n        vertical-align: top;\n    }\n\n    .dataframe thead th {\n        text-align: right;\n    }\n</style>\n<table border=\"1\" class=\"dataframe\">\n  <thead>\n    <tr style=\"text-align: right;\">\n      <th></th>\n      <th>PERIODO</th>\n      <th>VALOR</th>\n    </tr>\n  </thead>\n  <tbody>\n    <tr>\n      <th>0</th>\n      <td>2024T1</td>\n      <td>48.592.909</td>\n    </tr>\n    <tr>\n      <th>1</th>\n      <td>2023T4</td>\n      <td>48.507.039</td>\n    </tr>\n    <tr>\n      <th>2</th>\n      <td>2023T3</td>\n      <td>48.373.336</td>\n    </tr>\n    <tr>\n      <th>3</th>\n      <td>2023T2</td>\n      <td>48.233.001</td>\n    </tr>\n    <tr>\n      <th>4</th>\n      <td>2023T1</td>\n      <td>48.085.361</td>\n    </tr>\n  </tbody>\n</table>\n</div>"
     },
     "execution_count": 1,
     "metadata": {},
     "output_type": "execute_result"
    }
   ],
   "source": [
    "# Definición de los datos experimentales\n",
    "import pandas as pd\n",
    "\n",
    "# Lectura de los datos omitiendo las primeras 7 filas\n",
    "data = pd.read_csv('PoblaciónEspaña.csv', skiprows=7)\n",
    "\n",
    "# Solo nos interesan las columnas 'PERIODO' y 'VALOR'\n",
    "data = data[['PERIODO','VALOR']]\n",
    "\n",
    "# Visualización de los datos\n",
    "data.head()\n",
    "\n",
    "# NOTA: Si se desean ver todos los datos, se puede ingresar como parámetro de la función 'head' el número de datos a visualizar\n",
    "# Ejemplo: data.head(10)"
   ],
   "metadata": {
    "collapsed": false,
    "ExecuteTime": {
     "end_time": "2024-08-14T01:52:23.189202800Z",
     "start_time": "2024-08-14T01:52:21.994117400Z"
    }
   },
   "id": "2d7974135193352f"
  },
  {
   "cell_type": "markdown",
   "source": [
    "Notemos que el periodo de tiempo se encuentra en una escala trimestral, en un formato \"año + T + trimestre\". Ahora bien, para poder manejar este tipo de escalas en el tiempo, se procederá a convertir estos valores a una escala de años, en donde al ser un total de 4 trimestres por año, dependiendo del valor del trimestre, se sumará un valor de 0.25, 0.5, 0.75 o 1 al año correspondiente. Para lograr este fin, se procederá a añadir una columna adicional al índice del DataFrame que contenga el valor de los años en una escala anual."
   ],
   "metadata": {
    "collapsed": false
   },
   "id": "4dd983cea877bfc6"
  },
  {
   "cell_type": "code",
   "execution_count": 2,
   "outputs": [
    {
     "data": {
      "text/plain": "          POBLACIÓN\nTIEMPO             \n2024.25  48.592.909\n2024.00  48.507.039\n2023.75  48.373.336\n2023.50  48.233.001\n2023.25  48.085.361",
      "text/html": "<div>\n<style scoped>\n    .dataframe tbody tr th:only-of-type {\n        vertical-align: middle;\n    }\n\n    .dataframe tbody tr th {\n        vertical-align: top;\n    }\n\n    .dataframe thead th {\n        text-align: right;\n    }\n</style>\n<table border=\"1\" class=\"dataframe\">\n  <thead>\n    <tr style=\"text-align: right;\">\n      <th></th>\n      <th>POBLACIÓN</th>\n    </tr>\n    <tr>\n      <th>TIEMPO</th>\n      <th></th>\n    </tr>\n  </thead>\n  <tbody>\n    <tr>\n      <th>2024.25</th>\n      <td>48.592.909</td>\n    </tr>\n    <tr>\n      <th>2024.00</th>\n      <td>48.507.039</td>\n    </tr>\n    <tr>\n      <th>2023.75</th>\n      <td>48.373.336</td>\n    </tr>\n    <tr>\n      <th>2023.50</th>\n      <td>48.233.001</td>\n    </tr>\n    <tr>\n      <th>2023.25</th>\n      <td>48.085.361</td>\n    </tr>\n  </tbody>\n</table>\n</div>"
     },
     "execution_count": 2,
     "metadata": {},
     "output_type": "execute_result"
    }
   ],
   "source": [
    "# Crear una nueva columna con el valor del año en una escala anual\n",
    "data[['AÑO', 'TRIMESTRE']] = data['PERIODO'].str.split('T', expand=True)\n",
    "\n",
    "# Convertir 'año' y 'periodo' a enteros\n",
    "data['AÑO'] = data['AÑO'].astype(int)\n",
    "data['TRIMESTRE'] = data['TRIMESTRE'].astype(int)\n",
    "\n",
    "# Crear una nueva columna que sea la suma de 'año' y 'periodo'\n",
    "data['TIEMPO'] = data['AÑO'] + data['TRIMESTRE']/4\n",
    "\n",
    "# Eliminar las columnas 'AÑO' y 'TRIMESTRE'\n",
    "data = data.drop(columns=['AÑO', 'TRIMESTRE', 'PERIODO'])\n",
    "\n",
    "# Adicionar la columna 'TIEMPO' al índice\n",
    "data = data.set_index('TIEMPO')\n",
    "\n",
    "# Renombrar la columna 'VALOR' a 'POBLACIÓN'\n",
    "data = data.rename(columns={'VALOR': 'POBLACIÓN'})\n",
    "\n",
    "data.head()"
   ],
   "metadata": {
    "collapsed": false,
    "ExecuteTime": {
     "end_time": "2024-08-14T01:52:27.066831800Z",
     "start_time": "2024-08-14T01:52:27.042575300Z"
    }
   },
   "id": "935a452d6ebd9f46"
  },
  {
   "cell_type": "markdown",
   "source": [
    "Ahora bien, por temas de manejo en el lenguaje de programación Python, notemos que los números que hacen referencia a la población contienen puntos de separación de miles, lo cual puede ser un problema a la hora de realizar operaciones matemáticas con estos datos. Por lo tanto, se procederá a quitar estos puntos y a convertir los datos a un tipo de dato numérico, con el fin de poder realizar operaciones matemáticas con los mismos."
   ],
   "metadata": {
    "collapsed": false
   },
   "id": "df6a5db8a49a186f"
  },
  {
   "cell_type": "code",
   "execution_count": 3,
   "outputs": [
    {
     "data": {
      "text/plain": "         POBLACIÓN\nTIEMPO            \n2024.25   48592909\n2024.00   48507039\n2023.75   48373336\n2023.50   48233001\n2023.25   48085361",
      "text/html": "<div>\n<style scoped>\n    .dataframe tbody tr th:only-of-type {\n        vertical-align: middle;\n    }\n\n    .dataframe tbody tr th {\n        vertical-align: top;\n    }\n\n    .dataframe thead th {\n        text-align: right;\n    }\n</style>\n<table border=\"1\" class=\"dataframe\">\n  <thead>\n    <tr style=\"text-align: right;\">\n      <th></th>\n      <th>POBLACIÓN</th>\n    </tr>\n    <tr>\n      <th>TIEMPO</th>\n      <th></th>\n    </tr>\n  </thead>\n  <tbody>\n    <tr>\n      <th>2024.25</th>\n      <td>48592909</td>\n    </tr>\n    <tr>\n      <th>2024.00</th>\n      <td>48507039</td>\n    </tr>\n    <tr>\n      <th>2023.75</th>\n      <td>48373336</td>\n    </tr>\n    <tr>\n      <th>2023.50</th>\n      <td>48233001</td>\n    </tr>\n    <tr>\n      <th>2023.25</th>\n      <td>48085361</td>\n    </tr>\n  </tbody>\n</table>\n</div>"
     },
     "execution_count": 3,
     "metadata": {},
     "output_type": "execute_result"
    }
   ],
   "source": [
    "# Primero debo quitar los puntos de los datos\n",
    "data['POBLACIÓN'] = [x.replace('.','') for x in data['POBLACIÓN']]\n",
    "# Convertir los valores a tipo float\n",
    "data['POBLACIÓN'] = data['POBLACIÓN'].astype(int)\n",
    "\n",
    "data.head()"
   ],
   "metadata": {
    "collapsed": false,
    "ExecuteTime": {
     "end_time": "2024-08-14T01:52:29.964168700Z",
     "start_time": "2024-08-14T01:52:29.931685500Z"
    }
   },
   "id": "edbe4f33a90eeff"
  },
  {
   "cell_type": "markdown",
   "source": [
    "Ahora que se ha realizado la conversión de los datos a una escala anual, se procederá a visualizar los datos experimentales en una gráfica numérica, para darnos una idea de cómo se comporta la población en función del tiempo y de la forma en que debería ajustarse el modelo exponencial a los datos experimentales."
   ],
   "metadata": {
    "collapsed": false
   },
   "id": "69a40f9f417b7765"
  },
  {
   "cell_type": "code",
   "execution_count": 4,
   "outputs": [
    {
     "data": {
      "text/plain": "<Figure size 800x600 with 1 Axes>",
      "image/png": "[encoded data removed]"
     },
     "metadata": {},
     "output_type": "display_data"
    }
   ],
   "source": [
    "# Visualización de los datos experimentales en una gráfica numerica\n",
    "import matplotlib.pyplot as plt\n",
    "\n",
    "import numpy as np\n",
    "\n",
    "# Graficar los datos\n",
    "plt.figure(figsize=(8, 6))  # Definir el tamaño de la figura\n",
    "plt.scatter(data.index, data['POBLACIÓN'], color='blue', marker='.')  # Scatter plot\n",
    "plt.title('Población por Año')  # Título del gráfico\n",
    "plt.xlabel('Año')  # Etiqueta del eje x\n",
    "plt.ylabel('Población')  # Etiqueta del eje y\n",
    "\n",
    "\n",
    "\n",
    "plt.grid(True)  # Mostrar una cuadrícula en el gráfico\n",
    "plt.show()  # Mostrar el gráfico"
   ],
   "metadata": {
    "collapsed": false,
    "ExecuteTime": {
     "end_time": "2024-08-14T01:52:34.456997Z",
     "start_time": "2024-08-14T01:52:33.188094900Z"
    }
   },
   "id": "5441ca6debe3e3ce"
  },
  {
   "cell_type": "code",
   "execution_count": 5,
   "outputs": [
    {
     "data": {
      "text/plain": "<Figure size 800x600 with 1 Axes>",
      "image/png": "[encoded data removed]"
     },
     "metadata": {},
     "output_type": "display_data"
    },
    {
     "data": {
      "text/plain": "         POBLACIÓN\nTIEMPO            \n2024.25   48592909\n2021.75   47346836\n2017.25   46497393\n2012.25   46818216\n2007.25   44784659\n2002.25   41035271\n1997.25   39971329\n1992.25   39051336\n1987.25   38638052\n1982.25   37881873",
      "text/html": "<div>\n<style scoped>\n    .dataframe tbody tr th:only-of-type {\n        vertical-align: middle;\n    }\n\n    .dataframe tbody tr th {\n        vertical-align: top;\n    }\n\n    .dataframe thead th {\n        text-align: right;\n    }\n</style>\n<table border=\"1\" class=\"dataframe\">\n  <thead>\n    <tr style=\"text-align: right;\">\n      <th></th>\n      <th>POBLACIÓN</th>\n    </tr>\n    <tr>\n      <th>TIEMPO</th>\n      <th></th>\n    </tr>\n  </thead>\n  <tbody>\n    <tr>\n      <th>2024.25</th>\n      <td>48592909</td>\n    </tr>\n    <tr>\n      <th>2021.75</th>\n      <td>47346836</td>\n    </tr>\n    <tr>\n      <th>2017.25</th>\n      <td>46497393</td>\n    </tr>\n    <tr>\n      <th>2012.25</th>\n      <td>46818216</td>\n    </tr>\n    <tr>\n      <th>2007.25</th>\n      <td>44784659</td>\n    </tr>\n    <tr>\n      <th>2002.25</th>\n      <td>41035271</td>\n    </tr>\n    <tr>\n      <th>1997.25</th>\n      <td>39971329</td>\n    </tr>\n    <tr>\n      <th>1992.25</th>\n      <td>39051336</td>\n    </tr>\n    <tr>\n      <th>1987.25</th>\n      <td>38638052</td>\n    </tr>\n    <tr>\n      <th>1982.25</th>\n      <td>37881873</td>\n    </tr>\n  </tbody>\n</table>\n</div>"
     },
     "execution_count": 5,
     "metadata": {},
     "output_type": "execute_result"
    }
   ],
   "source": [
    "# Muestro algunos de los datos (aproximadamente 10) en una gráfica para una mejor visualización de la situación\n",
    "# Graficar los datos\n",
    "plt.figure(figsize=(8, 6))  # Definir el tamaño de la figura\n",
    "\n",
    "# Seleccionar manualmente 10 datos\n",
    "data_10 = data.iloc[[0, 10, 20, 30, 40, 50, 60, 70, 80, 90]]\n",
    "\n",
    "plt.scatter(data_10.index, data_10['POBLACIÓN'], color='blue', marker='.')  # Scatter plot\n",
    "\n",
    "plt.title('Población por Año')  # Título del gráfico\n",
    "plt.xlabel('Año')  # Etiqueta del eje x\n",
    "plt.ylabel('Población')  # Etiqueta del eje y\n",
    "\n",
    "\n",
    "plt.grid(True)  # Mostrar una cuadrícula en el gráfico\n",
    "plt.show()  # Mostrar el gráfico\n",
    "\n",
    "# Imprimir los datos seleccionados\n",
    "data_10"
   ],
   "metadata": {
    "collapsed": false,
    "ExecuteTime": {
     "end_time": "2024-08-14T01:52:36.664158600Z",
     "start_time": "2024-08-14T01:52:36.472265300Z"
    }
   },
   "id": "6a852dcd6ab1d6ea"
  },
  {
   "cell_type": "markdown",
   "source": [
    "Como prueba adicional, haremos una copia de los datos en otra variable con el fin de realizarle unas pequeñas modificaciones, estas consisten en hacer una traslación del tiempo, de manera que, haremos que nuestro tiempo inicial (t=0) s\n",
    "\n",
    "\n",
    "\n",
    "\n",
    "\n",
    "\n",
    "\n",
    "\n",
    "\n",
    "\n",
    "\n",
    "\n",
    "\n",
    "\n",
    "\n",
    "\n",
    "\n",
    "\n",
    "\n",
    "\n",
    "\n",
    "\n",
    "\n",
    "\n",
    "\n",
    "\n",
    "\n",
    "\n",
    "\n",
    "\n",
    "\n",
    "\n",
    "\n",
    "\n",
    "\n",
    "\n",
    "\n",
    "\n",
    "\n",
    "\n",
    "\n",
    "\n",
    "\n",
    "\n",
    "\n",
    "\n",
    "\n",
    "\n",
    "\n",
    "\n",
    "\n",
    "\n",
    "\n",
    "\n",
    "\n",
    "\n",
    "\n",
    "\n",
    "\n",
    "\n",
    "\n",
    "\n",
    "\n",
    "\n",
    "\n",
    "\n",
    "\n",
    "\n",
    "\n",
    "\n",
    "\n",
    "\n",
    "\n",
    "\n",
    "\n",
    "\n",
    "\n",
    "\n",
    "\n",
    "\n",
    "\n",
    "\n",
    "\n",
    "\n",
    "\n",
    "\n",
    "\n",
    "\n",
    "\n",
    "\n",
    "\n",
    "\n",
    "\n",
    "\n",
    "\n",
    "\n",
    "\n",
    "\n",
    "\n",
    "\n",
    "\n",
    "\n",
    "\n",
    "\n",
    "\n",
    "\n",
    "\n",
    "\n",
    "\n",
    "\n",
    "\n",
    "\n",
    "\n",
    "\n",
    "\n",
    "\n",
    "\n",
    "\n",
    "\n",
    "\n",
    "\n",
    "\n",
    "\n",
    "\n",
    "\n",
    "\n",
    "\n",
    "\n",
    "\n",
    "\n",
    "\n",
    "\n",
    "\n",
    "\n",
    "\n",
    "\n",
    "\n",
    "\n",
    "\n",
    "\n",
    "\n",
    "\n",
    "\n",
    "\n",
    "\n",
    "\n",
    "\n",
    "\n",
    "\n",
    "\n",
    "\n",
    "\n",
    "\n",
    "\n",
    "\n",
    "\n",
    "\n",
    "\n",
    "\n",
    "\n",
    "\n",
    "\n",
    "\n",
    "\n",
    "\n",
    "\n",
    "\n",
    "\n",
    "\n",
    "\n",
    "\n",
    "\n",
    "\n",
    "\n",
    "\n",
    "\n",
    "\n",
    "\n",
    "\n",
    "\n",
    "\n",
    "\n",
    "\n",
    "\n",
    "\n",
    "\n",
    "\n",
    "\n",
    "\n",
    "\n",
    "\n",
    "\n",
    "\n",
    "\n",
    "\n",
    "\n",
    "\n",
    "\n",
    "\n",
    "\n",
    "\n",
    "\n",
    "\n",
    "\n",
    "\n",
    "\n",
    "\n",
    "\n",
    "\n",
    "\n",
    "\n",
    "\n",
    "\n",
    "\n",
    "\n",
    "\n",
    "\n",
    "\n",
    "\n",
    "\n",
    "\n",
    "\n",
    "\n",
    "\n",
    "\n",
    "\n",
    "\n",
    "\n",
    "\n",
    "\n",
    "\n",
    "\n",
    "\n",
    "\n",
    "\n",
    "\n",
    "\n",
    "\n",
    "\n",
    "\n",
    "\n",
    "\n",
    "\n",
    "\n",
    "\n",
    "\n",
    "\n",
    "\n",
    "\n",
    "\n",
    "\n",
    "\n",
    "\n",
    "\n",
    "\n",
    "\n",
    "\n",
    "\n",
    "\n",
    "\n",
    "\n",
    "\n",
    "\n",
    "\n",
    "\n",
    "\n",
    "\n",
    "\n",
    "\n",
    "\n",
    "\n",
    "\n",
    "\n",
    "\n",
    "\n",
    "\n",
    "\n",
    "\n",
    "\n",
    "\n",
    "\n",
    "\n",
    "\n",
    "\n",
    "\n",
    "\n",
    "\n",
    "\n",
    "\n",
    "\n",
    "\n",
    "\n",
    "\n",
    "\n",
    "\n",
    "\n",
    "\n",
    "\n",
    "\n",
    "\n",
    "\n",
    "\n",
    "\n",
    "\n",
    "\n",
    "\n",
    "\n",
    "\n",
    "\n",
    "\n",
    "\n",
    "\n",
    "\n",
    "\n",
    "\n",
    "\n",
    "\n",
    "\n",
    "\n",
    "\n",
    "\n",
    "\n",
    "\n",
    "\n",
    "\n",
    "\n",
    "\n",
    "\n",
    "\n",
    "\n",
    "\n",
    "\n",
    "\n",
    "\n",
    "\n",
    "\n",
    "\n",
    "\n",
    "\n",
    "\n",
    "\n",
    "\n",
    "\n",
    "\n",
    "\n",
    "\n",
    "\n",
    "\n",
    "\n",
    "\n",
    "\n",
    "\n",
    "\n",
    "\n",
    "\n",
    "\n",
    "\n",
    "\n",
    "\n",
    "\n",
    "\n",
    "\n",
    "\n",
    "\n",
    "\n",
    "\n",
    "\n",
    "\n",
    "\n",
    "\n",
    "\n",
    "\n",
    "\n",
    "\n",
    "\n",
    "\n",
    "\n",
    "\n",
    "\n",
    "\n",
    "\n",
    "\n",
    "\n",
    "\n",
    "\n",
    "\n",
    "\n",
    "\n",
    "\n",
    "\n",
    "\n",
    "\n",
    "\n",
    "\n",
    "\n",
    "\n",
    "\n",
    "\n",
    "\n",
    "\n",
    "\n",
    "\n",
    "\n",
    "\n",
    "\n",
    "\n",
    "\n",
    "\n",
    "\n",
    "\n",
    "\n",
    "\n",
    "\n",
    "\n",
    "\n",
    "\n",
    "\n",
    "\n",
    "\n",
    "\n",
    "\n",
    "\n",
    "\n",
    "\n",
    "\n",
    "\n",
    "\n",
    "\n",
    "\n",
    "\n",
    "\n",
    "\n",
    "\n",
    "\n",
    "\n",
    "\n",
    "\n",
    "\n",
    "\n",
    "\n",
    "\n",
    "\n",
    "\n",
    "\n",
    "\n",
    "\n",
    "\n",
    "\n",
    "\n",
    "\n",
    "\n",
    "\n",
    "\n",
    "\n",
    "\n",
    "\n",
    "\n",
    "\n",
    "\n",
    "ea el año 1971, esto con el fin de poder ajustar el modelo exponencial a los datos experimentales de una mejor manera. A continuación se procederá a realizar esta traslación y a visualizar los datos experimentales en una gráfica numérica."
   ],
   "metadata": {
    "collapsed": false
   },
   "id": "8d6abb9e19c30a77"
  },
  {
   "cell_type": "code",
   "execution_count": 6,
   "outputs": [
    {
     "data": {
      "text/plain": "<Figure size 800x600 with 1 Axes>",
      "image/png": "[encoded data removed]"
     },
     "metadata": {},
     "output_type": "display_data"
    },
    {
     "data": {
      "text/plain": "        POBLACIÓN\nTIEMPO           \n53.25    48592909\n53.00    48507039\n52.75    48373336\n52.50    48233001\n52.25    48085361",
      "text/html": "<div>\n<style scoped>\n    .dataframe tbody tr th:only-of-type {\n        vertical-align: middle;\n    }\n\n    .dataframe tbody tr th {\n        vertical-align: top;\n    }\n\n    .dataframe thead th {\n        text-align: right;\n    }\n</style>\n<table border=\"1\" class=\"dataframe\">\n  <thead>\n    <tr style=\"text-align: right;\">\n      <th></th>\n      <th>POBLACIÓN</th>\n    </tr>\n    <tr>\n      <th>TIEMPO</th>\n      <th></th>\n    </tr>\n  </thead>\n  <tbody>\n    <tr>\n      <th>53.25</th>\n      <td>48592909</td>\n    </tr>\n    <tr>\n      <th>53.00</th>\n      <td>48507039</td>\n    </tr>\n    <tr>\n      <th>52.75</th>\n      <td>48373336</td>\n    </tr>\n    <tr>\n      <th>52.50</th>\n      <td>48233001</td>\n    </tr>\n    <tr>\n      <th>52.25</th>\n      <td>48085361</td>\n    </tr>\n  </tbody>\n</table>\n</div>"
     },
     "execution_count": 6,
     "metadata": {},
     "output_type": "execute_result"
    }
   ],
   "source": [
    "# Crear una copia de los datos\n",
    "data_traslacion = data.copy()\n",
    "\n",
    "# Trasladar el tiempo para que el tiempo inicial sea el año 1971\n",
    "data_traslacion.index = data_traslacion.index - 1971\n",
    "\n",
    "# Visualización de los datos experimentales en una gráfica numerica\n",
    "plt.figure(figsize=(8, 6))  # Definir el tamaño de la figura\n",
    "plt.scatter(data_traslacion.index, data_traslacion['POBLACIÓN'], color='blue', marker='.')  # Scatter plot\n",
    "plt.title('Población por Año')  # Título del gráfico\n",
    "plt.xlabel('Año')  # Etiqueta del eje x\n",
    "plt.ylabel('Población')  # Etiqueta del eje y\n",
    "\n",
    "plt.grid(True)  # Mostrar una cuadrícula en el gráfico\n",
    "\n",
    "plt.show()  # Mostrar el gráfico\n",
    "\n",
    "# Imprimir los datos\n",
    "data_traslacion.head()"
   ],
   "metadata": {
    "collapsed": false,
    "ExecuteTime": {
     "end_time": "2024-08-14T01:52:41.229006400Z",
     "start_time": "2024-08-14T01:52:41.047425200Z"
    }
   },
   "id": "39f948b3c1ab430c"
  },
  {
   "cell_type": "markdown",
   "source": [
    "Con unos datos menos haremos un análisis de la situación, con el fin de darnos una idea de como se comporta la población en función del tiempo y de la forma en que debería ajustarse el modelo exponencial a los datos experimentales, esto con el fin de poder situarnos en un punto inicial el cual optimizar. Así pues, tratemos con algunos valores con el fin de ver como se visualiza en el modelo."
   ],
   "metadata": {
    "collapsed": false
   },
   "id": "550702a66a841d3a"
  },
  {
   "cell_type": "markdown",
   "source": [
    "### 2. Implementación de los métodos\n",
    "Primero se procederá a definir la función objetivo a minimizar, la cual corresponde a la suma de los errores cuadráticos entre los datos experimentales y el modelo exponencial. Posteriormente, se implementarán los métodos de región de confianza y Gauss-Newton para encontrar los valores de $C_0$ y $k$ que mejor se ajusten a los datos experimentales.\n"
   ],
   "metadata": {
    "collapsed": false
   },
   "id": "de17949d4024f63f"
  },
  {
   "cell_type": "code",
   "execution_count": 7,
   "outputs": [],
   "source": [
    "# Definición de la función objetivo\n",
    "def objective_function(params, t, C):\n",
    "    C0, k = params\n",
    "    return np.sum((C - C0 * np.exp(k * t)) ** 2) / 2"
   ],
   "metadata": {
    "collapsed": false,
    "ExecuteTime": {
     "end_time": "2024-08-14T01:52:44.814562Z",
     "start_time": "2024-08-14T01:52:44.795969900Z"
    }
   },
   "id": "ca69e8678d360c09"
  },
  {
   "cell_type": "markdown",
   "source": [
    "#### Método de Región de Confianza"
   ],
   "metadata": {
    "collapsed": false
   },
   "id": "58fadd577167e37"
  },
  {
   "cell_type": "code",
   "execution_count": 28,
   "outputs": [],
   "source": [
    "from autograd import grad, hessian, jacobian\n",
    "import autograd.numpy as np\n",
    "\n",
    "# Definición de la función m_k\n",
    "def m_k(funcion_objetivo, params, t, C, p):\n",
    "    return funcion_objetivo(params, t, C) + grad(funcion_objetivo)(params, t, C).dot(p) + 0.5 * p.dot((hessian(funcion_objetivo)(params, t, C) @ p))\n",
    "\n",
    "# Implementación del algoritmo de dirección usando el método de Dogleg\n",
    "def algoritmo_dogleg(grad_f, hess_f, r_k):\n",
    "    p_u = - (grad_f.dot(grad_f) / (grad_f.dot(hess_f * grad_f))) * grad_f\n",
    "    p_n = - np.linalg.inv(hess_f) @ grad_f\n",
    "    \n",
    "    if np.linalg.norm(p_n) <= r_k:\n",
    "        return p_n\n",
    "    \n",
    "    if np.linalg.norm(p_u) >= r_k:\n",
    "        return - r_k * p_u / np.linalg.norm(p_u)\n",
    "    else:\n",
    "        # Resolver la ecuación cuadrática a(τ − 1)2 + b(τ − 1) + c = 0\n",
    "        a = p_n.dot(p_n) - 2 * p_n.dot(p_u) + p_u.dot(p_u)\n",
    "        b = 2 * p_n.dot(p_u) - 2 * p_u.dot(p_u)\n",
    "        c = p_u.dot(p_u) - r_k**2\n",
    "        tau = (-b + np.sqrt(b**2 - 4 * a * c)) / (2 * a)\n",
    "        tau = tau + 1\n",
    "        return p_u + tau * (p_n - p_u)\n",
    "\n",
    "# Implementación del método de región de confianza\n",
    "def region_confianza(funcion_objetivo, initial_params, t, C, delta = 0.75, eta = 0.2, max_iter = 6000, tol = 1e-6):\n",
    "    params = initial_params\n",
    "    radius = 0.5\n",
    "    iteration = 0\n",
    "    while funcion_objetivo(params, t, C) > tol and iteration < max_iter:\n",
    "        \n",
    "        # Calculamos el gradiente y la matriz Hessiana\n",
    "        grad_f = grad(funcion_objetivo)(params, t, C)\n",
    "        hess_f = hessian(funcion_objetivo)(params, t, C)\n",
    "        \n",
    "        # Obtener la dirección de descenso p_k\n",
    "        p_k = algoritmo_dogleg(grad_f, hess_f, radius)\n",
    "\n",
    "        # Evaluar rho_k\n",
    "        rho_k = (funcion_objetivo(params, t, C) - funcion_objetivo((params + p_k), t, C)) / (m_k(funcion_objetivo, params, t, C, np.array([0,0])) - m_k(funcion_objetivo, params, t, C, p_k))\n",
    "        \n",
    "        # Actualizar el radio de confianza\n",
    "        if rho_k < 0.25:\n",
    "            radius = np.linalg.norm(p_k) / 4\n",
    "        else:\n",
    "            if rho_k > 0.75 and np.linalg.norm(p_k) == radius:\n",
    "                radius = min(2 * radius, delta)\n",
    "        \n",
    "        # Actualizar los parametros\n",
    "        if rho_k > eta:\n",
    "            params += p_k\n",
    "            \n",
    "        iteration += 1\n",
    "        \n",
    "    return params, iteration"
   ],
   "metadata": {
    "collapsed": false,
    "ExecuteTime": {
     "end_time": "2024-08-14T02:10:06.781615800Z",
     "start_time": "2024-08-14T02:10:06.706070500Z"
    }
   },
   "id": "8573664c14409e89"
  },
  {
   "cell_type": "markdown",
   "source": [
    "#### Método de Gauss-Newton\n",
    "Para el método de Gauss-Newton, se hace uso de los algoritmos desarrollados en la tarea 1, aquellos que corresponden a la búsqueda del tamaño de paso de manera que se cumplan las condiciones de Armijo y Wolfe. A continuación se presentan los algoritmos desarrollados en la tarea 1.\n"
   ],
   "metadata": {
    "collapsed": false
   },
   "id": "cddb3af237906c37"
  },
  {
   "cell_type": "code",
   "execution_count": 9,
   "outputs": [],
   "source": [
    "# Definimos la condición de Armijo\n",
    "def condicion_armijo(f, x, t, C, p, alpha, c1):\n",
    "    return f(x + alpha * p, t, C) <= f(x, t, C) + c1 * alpha * grad(f)(x, t, C).dot(p)\n",
    "\n",
    "\n",
    "# Definimos la condición de Wolfe\n",
    "def condicion_wolfe(f, x, t, C, p, alpha, c2):\n",
    "    return grad(f)(x + alpha * p, t, C).dot(p) >= c2 * grad(f)(x, t, C).dot(p)\n",
    "\n",
    "\n",
    "# Algoritmo de búsqueda de paso\n",
    "def busqueda_paso(f, x, t, C, p, alpha, c1, c2, rho):\n",
    "    # Verificamos que los valores de los parámetros sean válidos\n",
    "    if c1 <= 0 or c1 >= 1:\n",
    "        print('El valor de c1 no es válido')\n",
    "        return\n",
    "    if c2 <= c1 or c2 >= 1:\n",
    "        print('El valor de c2 no es válido')\n",
    "        return\n",
    "    if rho <= 0 or rho >= 1:\n",
    "        print('El valor de rho no es válido')\n",
    "        return\n",
    "    # Buscamos el tamaño de paso\n",
    "    while not (condicion_wolfe(f, x, t, C, p, alpha, c2) and condicion_armijo(f, x, t, C, p, alpha, c1)):\n",
    "        alpha = rho * alpha\n",
    "    return alpha"
   ],
   "metadata": {
    "collapsed": false,
    "ExecuteTime": {
     "end_time": "2024-08-14T01:52:50.559456500Z",
     "start_time": "2024-08-14T01:52:50.529765Z"
    }
   },
   "id": "880b28a532ee383b"
  },
  {
   "cell_type": "code",
   "execution_count": 10,
   "outputs": [],
   "source": [
    "# Implementación del método de Gauss-Newton\n",
    "def gauss_newton(funcion_objetivo, x0, t, C, tol=1e-6, max_iter=100):\n",
    "    x = x0\n",
    "    iteration = 0\n",
    "\n",
    "    # Definimos la función r_k\n",
    "    def r_k(x, t, C):\n",
    "        return (C - x[0] * np.exp(x[1] * t))**2\n",
    "\n",
    "    while funcion_objetivo(x, t, C) > tol and iteration < max_iter:\n",
    "        # Calcular el Jacobiano\n",
    "        jac_f = jacobian(r_k)(x, t, C)\n",
    "        \n",
    "        t1 = np.linalg.inv(np.dot(jac_f.T, jac_f))\n",
    "        t2 = np.dot(t1, jac_f.T)\n",
    "        t3 = np.dot(t2, r_k(x, t, C))\n",
    "        p = t3\n",
    "        \n",
    "        # Buscar el tamaño de paso\n",
    "        alpha = 1\n",
    "        c1 = 1e-4\n",
    "        c2 = 0.9\n",
    "        rho = 0.5\n",
    "        alpha = busqueda_paso(funcion_objetivo, x, t, C, p, alpha, c1, c2, rho)\n",
    "\n",
    "        # Actualizar x\n",
    "        x -= alpha * p\n",
    "\n",
    "        iteration += 1\n",
    "\n",
    "    return x   "
   ],
   "metadata": {
    "collapsed": false,
    "ExecuteTime": {
     "end_time": "2024-08-14T01:52:52.597057Z",
     "start_time": "2024-08-14T01:52:52.587080700Z"
    }
   },
   "id": "e2599a055d242c8f"
  },
  {
   "cell_type": "markdown",
   "source": [
    "### 3. Resolución del problema\n",
    "A continuación se procederá a resolver el problema de ajuste de curvas a los datos experimentales utilizando los métodos de región de confianza y Gauss-Newton implementados anteriormente. Se realizarán dos comparaciones, la primera con el fin de verificar que los métodos desarrollados sean correctos y la segunda para comparar los resultados obtenidos por ambos métodos. Para la primera verificación haremos una comparación con el método de optimización de la librería Scipy, escogiendo los métodos de acuerdo con la documentación brindada por la librería. Nuestra segunda verificación (realizada en el paso 4) será una comparación de los resultados obtenidos por los dos métodos implementados manualmente, con el fin de analizar cual es más conveniente para el problema en cuestión y que diferencias existen entre ellos.\n",
    "\n",
    "Además de esto, tomaremos como aproximación inicial un arreglo de dos elementos, donde el primer elemento corresponderá a la población inicial y el segundo elemento corresponderá a la tasa de crecimiento. Estos valores iniciales fueron tomados a partir de la relación entre los datos experimentales y la relación esperada entre los mismos, usando el significado conceptual de la tasa de crecimiento. A continuación se procederá a realizar la resolución del problema."
   ],
   "metadata": {
    "collapsed": false
   },
   "id": "673f8f04cf52f989"
  },
  {
   "cell_type": "markdown",
   "source": [
    "#### Método de Región de Confianza"
   ],
   "metadata": {
    "collapsed": false
   },
   "id": "31ae188d4029819b"
  },
  {
   "cell_type": "code",
   "execution_count": 32,
   "outputs": [
    {
     "name": "stdout",
     "output_type": "stream",
     "text": [
      "6000\n",
      "Parámetros encontrados por región de confianza:\n",
      "Población inicial estimada (C0): 34045141.75\n",
      "Tasa de crecimiento estimada (k): 0.006715583950932809\n",
      "\n",
      "Parámetros encontrados por Scipy:\n",
      "Población inicial estimada (C0): 34040642.0\n",
      "Tasa de crecimiento estimada (k): 0.006715517947539581\n"
     ]
    }
   ],
   "source": [
    "# Método de región de confianza\n",
    "\n",
    "# Definir los datos experimentales\n",
    "t = data.index.values\n",
    "C = data['POBLACIÓN'].values\n",
    "\n",
    "# Conversión de los datos a tipo float\n",
    "\n",
    "t = t.astype(float)\n",
    "# Convertir los valores a tipo float\n",
    "C = np.array(C, dtype=float)\n",
    "\n",
    "# Definir los valores iniciales de C0 y k, estos fueron tomados a partir de lo esperado y la relación entre los datos experimentales\n",
    "k_inicial = np.log(C[0] / C[-1]) / (t[0] - t[-1])\n",
    "x0 = np.array([C[-1], k_inicial])\n",
    "\n",
    "# Resolver el problema utilizando el método de región de confianza\n",
    "params_rc, itera = region_confianza(objective_function, x0, t, C)\n",
    "#params_rc = trust_region(x0, objective_function, t, C)\n",
    "print(itera)\n",
    "\n",
    "C0_optimo, k_optimo = params_rc\n",
    "\n",
    "# Mostrar los resultados\n",
    "print('Parámetros encontrados por región de confianza:')\n",
    "print('Población inicial estimada (C0):', C0_optimo)\n",
    "print('Tasa de crecimiento estimada (k):', k_optimo)\n",
    "\n",
    "# Impresión de espacio\n",
    "print(\"\")\n",
    "\n",
    "# Método de optimización de Scipy\n",
    "\n",
    "from scipy.optimize import minimize\n",
    "\n",
    "k_inicial = np.log(C[0] / C[-1]) / (t[0] - t[-1])\n",
    "x0 = np.array([C[-1], k_inicial])\n",
    "\n",
    "resultado = minimize(objective_function, x0, (t, C), method=\"dogleg\", jac=jacobian(objective_function), hess=hessian(objective_function))\n",
    "\n",
    "# Resultados\n",
    "C0_optimo1, k_optimo1 = resultado.x\n",
    "print(\"Parámetros encontrados por Scipy:\")\n",
    "print(\"Población inicial estimada (C0):\", C0_optimo1)\n",
    "print(\"Tasa de crecimiento estimada (k):\", k_optimo1)"
   ],
   "metadata": {
    "collapsed": false,
    "ExecuteTime": {
     "end_time": "2024-08-14T02:22:11.470128700Z",
     "start_time": "2024-08-14T02:21:38.748990700Z"
    }
   },
   "id": "9e415a5edaa4a298"
  },
  {
   "cell_type": "code",
   "execution_count": 14,
   "outputs": [
    {
     "name": "stdout",
     "output_type": "stream",
     "text": [
      "1000\n",
      "Parámetros encontrados por región de confianza:\n",
      "Población inicial estimada (C0): 34040541.99999851\n",
      "Tasa de crecimiento estimada (k): 0.006715443353231313\n",
      "Parámetros encontrados por Scipy:\n",
      "Población inicial estimada (C0): 34431664.999999985\n",
      "Tasa de crecimiento estimada (k): 0.006581522860060394\n"
     ]
    }
   ],
   "source": [
    "# Método de región de confianza con traslación del tiempo\n",
    "\n",
    "# Definir los datos experimentales\n",
    "t = data_traslacion.index.values\n",
    "C = data_traslacion['POBLACIÓN'].values\n",
    "\n",
    "# Conversión de los datos a tipo float\n",
    "\n",
    "t = t.astype(float)\n",
    "# Convertir los valores a tipo float\n",
    "C = np.array(C, dtype=float)\n",
    "\n",
    "# Definir los valores iniciales de C0 y k, estos fueron tomados a partir de lo esperado y la relación entre los datos experimentales\n",
    "k_inicial = np.log(C[0] / C[-1]) / (t[0] - t[-1])\n",
    "x0 = np.array([C[-1], k_inicial])\n",
    "\n",
    "# Resolver el problema utilizando el método de región de confianza\n",
    "params_rc, itera = region_confianza(objective_function, x0, t, C)\n",
    "#params_rc = trust_region(x0, objective_function, t, C)\n",
    "print(itera)\n",
    "\n",
    "C0_optimo, k_optimo = params_rc\n",
    "\n",
    "# Mostrar los resultados\n",
    "print('Parámetros encontrados por región de confianza:')\n",
    "print('Población inicial estimada (C0):', C0_optimo)\n",
    "print('Tasa de crecimiento estimada (k):', k_optimo)\n",
    "\n",
    "# Impresión de espacio\n",
    "print(\"\")\n",
    "\n",
    "# Método de optimización de Scipy\n",
    "\n",
    "from scipy.optimize import minimize\n",
    "\n",
    "k_inicial = np.log(C[0] / C[-1]) / (t[0] - t[-1])\n",
    "x0 = np.array([C[-1], k_inicial])\n",
    "\n",
    "resultado = minimize(objective_function, x0, (t, C), method=\"dogleg\", jac=jacobian(objective_function), hess=hessian(objective_function))\n",
    "\n",
    "# Resultados\n",
    "C0_optimo1, k_optimo1 = resultado.x\n",
    "print(\"Parámetros encontrados por Scipy:\")\n",
    "print(\"Población inicial estimada (C0):\", C0_optimo1)\n",
    "print(\"Tasa de crecimiento estimada (k):\", k_optimo1)\n",
    "\n"
   ],
   "metadata": {
    "collapsed": false,
    "ExecuteTime": {
     "end_time": "2024-08-13T00:52:24.038287500Z",
     "start_time": "2024-08-13T00:52:18.099546100Z"
    }
   },
   "id": "ee57faa3e815f817"
  },
  {
   "cell_type": "markdown",
   "source": [
    "#### Método de Gauss-Newton"
   ],
   "metadata": {
    "collapsed": false
   },
   "id": "9f994f3b0f0e4da9"
  },
  {
   "cell_type": "code",
   "execution_count": 14,
   "outputs": [
    {
     "name": "stdout",
     "output_type": "stream",
     "text": [
      "Parámetros encontrados por el método de Gauss-Newton:\n",
      "Población inicial estimada (C0): 48592909.0\n",
      "Tasa de crecimiento estimada (k): 0.0070747739131990315\n",
      "\n",
      "Parámetros encontrados por Scipy:\n",
      "Población inicial estimada (C0): 48592906.0\n",
      "Tasa de crecimiento estimada (k): -7.623675705071376e-05\n"
     ]
    }
   ],
   "source": [
    "# Método de Gauss-Newton\n",
    "\n",
    "# Definir los datos experimentales\n",
    "t = data.index.values\n",
    "C = data['POBLACIÓN'].values\n",
    "\n",
    "# Conversión de los datos a tipo float\n",
    "\n",
    "t = t.astype(float)\n",
    "# Convertir los valores a tipo float\n",
    "C = np.array(C, dtype=float)\n",
    "\n",
    "# Definir los valores iniciales de C0 y k, estos fueron tomados a partir de lo esperado y la relación entre los datos experimentales\n",
    "k_inicial = np.log(C[1] / C[0]) / (t[1] - t[0])\n",
    "x0 = np.array([C[0], k_inicial])\n",
    "\n",
    "# Resolver el problema utilizando el método de Gauss-Newton\n",
    "params_gn = gauss_newton(objective_function, x0, t, C)\n",
    "\n",
    "C0_optimo2, k_optimo2 = params_gn\n",
    "\n",
    "# Mostrar los resultados\n",
    "print('Parámetros encontrados por el método de Gauss-Newton:')\n",
    "print('Población inicial estimada (C0):', C0_optimo2)\n",
    "print('Tasa de crecimiento estimada (k):', k_optimo2)\n",
    "\n",
    "# Impresión de espacio\n",
    "print(\"\")\n",
    "\n",
    "# Método de optimización de Scipy\n",
    "\n",
    "from scipy.optimize import minimize\n",
    "\n",
    "k_inicial = np.log(C[1] / C[0]) / (t[1] - t[0])\n",
    "x0 = np.array([C[0], k_inicial])\n",
    "\n",
    "resultado2 = minimize(objective_function, x0, (t, C), method=\"trust-ncg\", jac=jacobian(objective_function), hess=hessian(objective_function))\n",
    "\n",
    "# Resultados\n",
    "C0_optimo3, k_optimo3 = resultado2.x\n",
    "print(\"Parámetros encontrados por Scipy:\")\n",
    "print(\"Población inicial estimada (C0):\", C0_optimo3)\n",
    "print(\"Tasa de crecimiento estimada (k):\", k_optimo3)"
   ],
   "metadata": {
    "collapsed": false,
    "ExecuteTime": {
     "end_time": "2024-08-12T21:04:59.634864300Z",
     "start_time": "2024-08-12T21:04:48.302065300Z"
    }
   },
   "id": "56aaff511d5900f3"
  },
  {
   "cell_type": "markdown",
   "source": [
    "Como pudimos evidenciar, los resultados obtenidos por los métodos manualmente implementados y por los métodos que ofrece la librería Scipy son muy similares, pues difieren en valores minúsculos y poco representativos para el problema, por lo que esto nos sugiere que los métodos implementados son correctos y podemos proceder a analizar los resultados de estos. A continuación se procederá a comparar los resultados obtenidos por ambos métodos."
   ],
   "metadata": {
    "collapsed": false
   },
   "id": "b327fc555833d54"
  },
  {
   "cell_type": "markdown",
   "source": [
    "### 4. Discusión de los resultados obtenidos\n",
    "En este apartado se procederá a comparar los resultados obtenidos por los métodos de región de confianza y Gauss-Newton. Para esto, se compararán los valores de $C_0$ y $k$ obtenidos por ambos métodos y se realizará una comparación gráfica entre los resultados de ambos modelos. Además de esto, se realizarán ciertas anotaciones con respecto al tiempo de ejecución observado en ambos métodos."
   ],
   "metadata": {
    "collapsed": false
   },
   "id": "1e34f7c10aa767a"
  },
  {
   "cell_type": "markdown",
   "source": [
    "Primero, recordemos cuales fueron los resultados obtenidos por los métodos de región de confianza y Gauss-Newton implementados."
   ],
   "metadata": {
    "collapsed": false
   },
   "id": "a995b99e4265bdab"
  },
  {
   "cell_type": "code",
   "execution_count": 15,
   "outputs": [
    {
     "name": "stdout",
     "output_type": "stream",
     "text": [
      "Parámetros encontrados por región de confianza:\n",
      "Población inicial estimada (C0): 34040742.00000149\n",
      "Tasa de crecimiento estimada (k): 0.006715519414457933\n",
      "\n",
      "Parámetros encontrados por el método de Gauss-Newton:\n",
      "Población inicial estimada (C0): 48592909.0\n",
      "Tasa de crecimiento estimada (k): 0.0070747739131990315\n"
     ]
    }
   ],
   "source": [
    "print('Parámetros encontrados por región de confianza:')\n",
    "print('Población inicial estimada (C0):', C0_optimo)\n",
    "print('Tasa de crecimiento estimada (k):', k_optimo)\n",
    "\n",
    "print(\"\")\n",
    "\n",
    "print('Parámetros encontrados por el método de Gauss-Newton:')\n",
    "print('Población inicial estimada (C0):', C0_optimo2)\n",
    "print('Tasa de crecimiento estimada (k):', k_optimo2)"
   ],
   "metadata": {
    "collapsed": false,
    "ExecuteTime": {
     "end_time": "2024-08-12T21:05:04.096134100Z",
     "start_time": "2024-08-12T21:05:04.039833300Z"
    }
   },
   "id": "85c4f8ba8d22f548"
  },
  {
   "cell_type": "markdown",
   "source": [
    "A primera vista, los valores de $C_0$ y $k$ obtenidos por ambos métodos son muy similares, lo cual sugiere que ambos métodos son efectivos para resolver el problema de ajuste de curvas a los datos experimentales. A continuación se procederá a realizar una comparación gráfica entre los resultados obtenidos por ambos métodos."
   ],
   "metadata": {
    "collapsed": false
   },
   "id": "53c3d7927ee759fa"
  },
  {
   "cell_type": "code",
   "execution_count": 24,
   "outputs": [
    {
     "data": {
      "text/plain": "<Figure size 1600x600 with 2 Axes>",
      "image/png": "[encoded data removed]"
     },
     "metadata": {},
     "output_type": "display_data"
    }
   ],
   "source": [
    "# Visualización de la función obtenida según el método de región de confianza y Gauss-Newton en una figura que tiene al lado izquierdo la función obtenida por región de confianza y al lado derecho la función obtenida por Gauss-Newton\n",
    "plt.figure(figsize=(16, 6))  # Definir el tamaño de la figura\n",
    "\n",
    "# Gráfico de la función obtenida por región de confianza\n",
    "plt.subplot(1, 2, 1)  # Subgráfico 1\n",
    "plt.plot(data.index, C0_optimo * np.exp(k_optimo * t), color='red')  # Modelo exponencial ajustado\n",
    "plt.scatter(data.index, data['POBLACIÓN'], color='blue', marker='.')  # Scatter plot\n",
    "plt.title('Modelo exponencial ajustado por región de confianza')  # Título del gráfico\n",
    "plt.xlabel('Año')  # Etiqueta del eje x\n",
    "plt.ylabel('Población')  # Etiqueta del eje y\n",
    "\n",
    "plt.grid(True)  # Mostrar una cuadrícula en el gráfico\n",
    "\n",
    "# Gráfico de la función obtenida por Gauss-Newton\n",
    "plt.subplot(1, 2, 2)  # Subgráfico 2\n",
    "plt.plot(data.index, C0_optimo2 * np.exp(k_optimo2 * t), color='red')  # Modelo exponencial ajustado\n",
    "plt.title('Modelo exponencial ajustado por Gauss-Newton')  # Título del gráfico\n",
    "plt.xlabel('Año')  # Etiqueta del eje x\n",
    "plt.ylabel('Población')  # Etiqueta del eje y\n",
    "\n",
    "plt.grid(True)  # Mostrar una cuadrícula en el gráfico\n",
    "\n",
    "plt.show()  # Mostrar el gráfico"
   ],
   "metadata": {
    "collapsed": false,
    "ExecuteTime": {
     "end_time": "2024-08-12T21:15:34.718371500Z",
     "start_time": "2024-08-12T21:15:34.154001200Z"
    }
   },
   "id": "68ff432662ac9a29"
  },
  {
   "cell_type": "markdown",
   "source": [
    "Ahora realizaremos la impresión de la gráfica de la optimización realizada con los cambios en el tiempo, con el fin de ver como se comporta la población en función del tiempo y de la forma en que debería ajustarse el modelo exponencial a los datos experimentales."
   ],
   "metadata": {
    "collapsed": false
   },
   "id": "7ae5dae533da91b1"
  },
  {
   "cell_type": "markdown",
   "source": [],
   "metadata": {
    "collapsed": false
   },
   "id": "3e8c8708ffe2d51f"
  },
  {
   "cell_type": "code",
   "execution_count": 19,
   "outputs": [
    {
     "ename": "ValueError",
     "evalue": "x and y must have same first dimension, but have shapes (113,) and (10,)",
     "output_type": "error",
     "traceback": [
      "\u001B[1;31m---------------------------------------------------------------------------\u001B[0m",
      "\u001B[1;31mValueError\u001B[0m                                Traceback (most recent call last)",
      "Cell \u001B[1;32mIn[19], line 5\u001B[0m\n\u001B[0;32m      2\u001B[0m plt\u001B[38;5;241m.\u001B[39mfigure(figsize\u001B[38;5;241m=\u001B[39m(\u001B[38;5;241m8\u001B[39m, \u001B[38;5;241m6\u001B[39m))  \u001B[38;5;66;03m# Definir el tamaño de la figura\u001B[39;00m\n\u001B[0;32m      4\u001B[0m \u001B[38;5;66;03m# Gráfico de la función obtenida por región de confianza\u001B[39;00m\n\u001B[1;32m----> 5\u001B[0m plt\u001B[38;5;241m.\u001B[39mplot(data_traslacion\u001B[38;5;241m.\u001B[39mindex, C0_optimo \u001B[38;5;241m*\u001B[39m np\u001B[38;5;241m.\u001B[39mexp(k_optimo \u001B[38;5;241m*\u001B[39m t), color\u001B[38;5;241m=\u001B[39m\u001B[38;5;124m'\u001B[39m\u001B[38;5;124mred\u001B[39m\u001B[38;5;124m'\u001B[39m)  \u001B[38;5;66;03m# Modelo exponencial ajustado\u001B[39;00m\n\u001B[0;32m      6\u001B[0m plt\u001B[38;5;241m.\u001B[39mplot(data_traslacion\u001B[38;5;241m.\u001B[39mindex, C0_optimo \u001B[38;5;241m*\u001B[39m np\u001B[38;5;241m.\u001B[39mexp(k_optimo \u001B[38;5;241m*\u001B[39m t) \u001B[38;5;241m+\u001B[39m \u001B[38;5;241m50000\u001B[39m, color\u001B[38;5;241m=\u001B[39m\u001B[38;5;124m'\u001B[39m\u001B[38;5;124mred\u001B[39m\u001B[38;5;124m'\u001B[39m)  \u001B[38;5;66;03m# Modelo exponencial ajustado traladado\u001B[39;00m\n\u001B[0;32m      7\u001B[0m plt\u001B[38;5;241m.\u001B[39mscatter(data_traslacion\u001B[38;5;241m.\u001B[39mindex, data_traslacion[\u001B[38;5;124m'\u001B[39m\u001B[38;5;124mPOBLACIÓN\u001B[39m\u001B[38;5;124m'\u001B[39m], color\u001B[38;5;241m=\u001B[39m\u001B[38;5;124m'\u001B[39m\u001B[38;5;124mblue\u001B[39m\u001B[38;5;124m'\u001B[39m, marker\u001B[38;5;241m=\u001B[39m\u001B[38;5;124m'\u001B[39m\u001B[38;5;124m.\u001B[39m\u001B[38;5;124m'\u001B[39m)  \u001B[38;5;66;03m# Scatter plot\u001B[39;00m\n",
      "File \u001B[1;32m~\\anaconda3\\Lib\\site-packages\\matplotlib\\pyplot.py:3590\u001B[0m, in \u001B[0;36mplot\u001B[1;34m(scalex, scaley, data, *args, **kwargs)\u001B[0m\n\u001B[0;32m   3582\u001B[0m \u001B[38;5;129m@_copy_docstring_and_deprecators\u001B[39m(Axes\u001B[38;5;241m.\u001B[39mplot)\n\u001B[0;32m   3583\u001B[0m \u001B[38;5;28;01mdef\u001B[39;00m \u001B[38;5;21mplot\u001B[39m(\n\u001B[0;32m   3584\u001B[0m     \u001B[38;5;241m*\u001B[39margs: \u001B[38;5;28mfloat\u001B[39m \u001B[38;5;241m|\u001B[39m ArrayLike \u001B[38;5;241m|\u001B[39m \u001B[38;5;28mstr\u001B[39m,\n\u001B[1;32m   (...)\u001B[0m\n\u001B[0;32m   3588\u001B[0m     \u001B[38;5;241m*\u001B[39m\u001B[38;5;241m*\u001B[39mkwargs,\n\u001B[0;32m   3589\u001B[0m ) \u001B[38;5;241m-\u001B[39m\u001B[38;5;241m>\u001B[39m \u001B[38;5;28mlist\u001B[39m[Line2D]:\n\u001B[1;32m-> 3590\u001B[0m     \u001B[38;5;28;01mreturn\u001B[39;00m gca()\u001B[38;5;241m.\u001B[39mplot(\n\u001B[0;32m   3591\u001B[0m         \u001B[38;5;241m*\u001B[39margs,\n\u001B[0;32m   3592\u001B[0m         scalex\u001B[38;5;241m=\u001B[39mscalex,\n\u001B[0;32m   3593\u001B[0m         scaley\u001B[38;5;241m=\u001B[39mscaley,\n\u001B[0;32m   3594\u001B[0m         \u001B[38;5;241m*\u001B[39m\u001B[38;5;241m*\u001B[39m({\u001B[38;5;124m\"\u001B[39m\u001B[38;5;124mdata\u001B[39m\u001B[38;5;124m\"\u001B[39m: data} \u001B[38;5;28;01mif\u001B[39;00m data \u001B[38;5;129;01mis\u001B[39;00m \u001B[38;5;129;01mnot\u001B[39;00m \u001B[38;5;28;01mNone\u001B[39;00m \u001B[38;5;28;01melse\u001B[39;00m {}),\n\u001B[0;32m   3595\u001B[0m         \u001B[38;5;241m*\u001B[39m\u001B[38;5;241m*\u001B[39mkwargs,\n\u001B[0;32m   3596\u001B[0m     )\n",
      "File \u001B[1;32m~\\anaconda3\\Lib\\site-packages\\matplotlib\\axes\\_axes.py:1724\u001B[0m, in \u001B[0;36mAxes.plot\u001B[1;34m(self, scalex, scaley, data, *args, **kwargs)\u001B[0m\n\u001B[0;32m   1481\u001B[0m \u001B[38;5;250m\u001B[39m\u001B[38;5;124;03m\"\"\"\u001B[39;00m\n\u001B[0;32m   1482\u001B[0m \u001B[38;5;124;03mPlot y versus x as lines and/or markers.\u001B[39;00m\n\u001B[0;32m   1483\u001B[0m \n\u001B[1;32m   (...)\u001B[0m\n\u001B[0;32m   1721\u001B[0m \u001B[38;5;124;03m(``'green'``) or hex strings (``'#008000'``).\u001B[39;00m\n\u001B[0;32m   1722\u001B[0m \u001B[38;5;124;03m\"\"\"\u001B[39;00m\n\u001B[0;32m   1723\u001B[0m kwargs \u001B[38;5;241m=\u001B[39m cbook\u001B[38;5;241m.\u001B[39mnormalize_kwargs(kwargs, mlines\u001B[38;5;241m.\u001B[39mLine2D)\n\u001B[1;32m-> 1724\u001B[0m lines \u001B[38;5;241m=\u001B[39m [\u001B[38;5;241m*\u001B[39m\u001B[38;5;28mself\u001B[39m\u001B[38;5;241m.\u001B[39m_get_lines(\u001B[38;5;28mself\u001B[39m, \u001B[38;5;241m*\u001B[39margs, data\u001B[38;5;241m=\u001B[39mdata, \u001B[38;5;241m*\u001B[39m\u001B[38;5;241m*\u001B[39mkwargs)]\n\u001B[0;32m   1725\u001B[0m \u001B[38;5;28;01mfor\u001B[39;00m line \u001B[38;5;129;01min\u001B[39;00m lines:\n\u001B[0;32m   1726\u001B[0m     \u001B[38;5;28mself\u001B[39m\u001B[38;5;241m.\u001B[39madd_line(line)\n",
      "File \u001B[1;32m~\\anaconda3\\Lib\\site-packages\\matplotlib\\axes\\_base.py:303\u001B[0m, in \u001B[0;36m_process_plot_var_args.__call__\u001B[1;34m(self, axes, data, *args, **kwargs)\u001B[0m\n\u001B[0;32m    301\u001B[0m     this \u001B[38;5;241m+\u001B[39m\u001B[38;5;241m=\u001B[39m args[\u001B[38;5;241m0\u001B[39m],\n\u001B[0;32m    302\u001B[0m     args \u001B[38;5;241m=\u001B[39m args[\u001B[38;5;241m1\u001B[39m:]\n\u001B[1;32m--> 303\u001B[0m \u001B[38;5;28;01myield from\u001B[39;00m \u001B[38;5;28mself\u001B[39m\u001B[38;5;241m.\u001B[39m_plot_args(\n\u001B[0;32m    304\u001B[0m     axes, this, kwargs, ambiguous_fmt_datakey\u001B[38;5;241m=\u001B[39mambiguous_fmt_datakey)\n",
      "File \u001B[1;32m~\\anaconda3\\Lib\\site-packages\\matplotlib\\axes\\_base.py:499\u001B[0m, in \u001B[0;36m_process_plot_var_args._plot_args\u001B[1;34m(self, axes, tup, kwargs, return_kwargs, ambiguous_fmt_datakey)\u001B[0m\n\u001B[0;32m    496\u001B[0m     axes\u001B[38;5;241m.\u001B[39myaxis\u001B[38;5;241m.\u001B[39mupdate_units(y)\n\u001B[0;32m    498\u001B[0m \u001B[38;5;28;01mif\u001B[39;00m x\u001B[38;5;241m.\u001B[39mshape[\u001B[38;5;241m0\u001B[39m] \u001B[38;5;241m!=\u001B[39m y\u001B[38;5;241m.\u001B[39mshape[\u001B[38;5;241m0\u001B[39m]:\n\u001B[1;32m--> 499\u001B[0m     \u001B[38;5;28;01mraise\u001B[39;00m \u001B[38;5;167;01mValueError\u001B[39;00m(\u001B[38;5;124mf\u001B[39m\u001B[38;5;124m\"\u001B[39m\u001B[38;5;124mx and y must have same first dimension, but \u001B[39m\u001B[38;5;124m\"\u001B[39m\n\u001B[0;32m    500\u001B[0m                      \u001B[38;5;124mf\u001B[39m\u001B[38;5;124m\"\u001B[39m\u001B[38;5;124mhave shapes \u001B[39m\u001B[38;5;132;01m{\u001B[39;00mx\u001B[38;5;241m.\u001B[39mshape\u001B[38;5;132;01m}\u001B[39;00m\u001B[38;5;124m and \u001B[39m\u001B[38;5;132;01m{\u001B[39;00my\u001B[38;5;241m.\u001B[39mshape\u001B[38;5;132;01m}\u001B[39;00m\u001B[38;5;124m\"\u001B[39m)\n\u001B[0;32m    501\u001B[0m \u001B[38;5;28;01mif\u001B[39;00m x\u001B[38;5;241m.\u001B[39mndim \u001B[38;5;241m>\u001B[39m \u001B[38;5;241m2\u001B[39m \u001B[38;5;129;01mor\u001B[39;00m y\u001B[38;5;241m.\u001B[39mndim \u001B[38;5;241m>\u001B[39m \u001B[38;5;241m2\u001B[39m:\n\u001B[0;32m    502\u001B[0m     \u001B[38;5;28;01mraise\u001B[39;00m \u001B[38;5;167;01mValueError\u001B[39;00m(\u001B[38;5;124mf\u001B[39m\u001B[38;5;124m\"\u001B[39m\u001B[38;5;124mx and y can be no greater than 2D, but have \u001B[39m\u001B[38;5;124m\"\u001B[39m\n\u001B[0;32m    503\u001B[0m                      \u001B[38;5;124mf\u001B[39m\u001B[38;5;124m\"\u001B[39m\u001B[38;5;124mshapes \u001B[39m\u001B[38;5;132;01m{\u001B[39;00mx\u001B[38;5;241m.\u001B[39mshape\u001B[38;5;132;01m}\u001B[39;00m\u001B[38;5;124m and \u001B[39m\u001B[38;5;132;01m{\u001B[39;00my\u001B[38;5;241m.\u001B[39mshape\u001B[38;5;132;01m}\u001B[39;00m\u001B[38;5;124m\"\u001B[39m)\n",
      "\u001B[1;31mValueError\u001B[0m: x and y must have same first dimension, but have shapes (113,) and (10,)"
     ]
    },
    {
     "data": {
      "text/plain": "<Figure size 800x600 with 1 Axes>",
      "image/png": "[encoded data removed]"
     },
     "metadata": {},
     "output_type": "display_data"
    }
   ],
   "source": [
    "# Visualización de la función obtenida con los datos trasladados usando la función obtenida por el metodo de region de confianza\n",
    "plt.figure(figsize=(8, 6))  # Definir el tamaño de la figura\n",
    "\n",
    "# Gráfico de la función obtenida por región de confianza\n",
    "plt.plot(data_traslacion.index, C0_optimo * np.exp(k_optimo * t), color='red')  # Modelo exponencial ajustado\n",
    "\n",
    "plt.scatter(data_traslacion.index, data_traslacion['POBLACIÓN'], color='blue', marker='.')  # Scatter plot\n",
    "plt.title('Modelo exponencial ajustado por región de confianza')  # Título del gráfico\n",
    "plt.xlabel('Año')  # Etiqueta del eje x\n",
    "plt.ylabel('Población')  # Etiqueta del eje y\n",
    "\n",
    "plt.grid(True)  # Mostrar una cuadrícula en el gráfico\n",
    "\n",
    "plt.show()  # Mostrar el gráfico\n"
   ],
   "metadata": {
    "collapsed": false,
    "ExecuteTime": {
     "end_time": "2024-08-13T02:24:08.245556900Z",
     "start_time": "2024-08-13T02:24:05.498155700Z"
    }
   },
   "id": "1d908b14e70f7b58"
  },
  {
   "cell_type": "markdown",
   "source": [],
   "metadata": {
    "collapsed": false
   },
   "id": "6795bd7ca4052985"
  },
  {
   "cell_type": "markdown",
   "source": [
    "Finalmente, usaremos una muestra de datos más pequeña y le aplicaremos los respectivos algoritmos de optimización para ver como se comportan, usaremos entonces los datos ya seleccionados en datos_10."
   ],
   "metadata": {
    "collapsed": false
   },
   "id": "55280ba1d4ee5eb7"
  },
  {
   "cell_type": "code",
   "execution_count": 16,
   "outputs": [
    {
     "name": "stdout",
     "output_type": "stream",
     "text": [
      "Parámetros encontrados por región de confianza:\n",
      "Población inicial estimada (C0): 37881973.00000149\n",
      "Tasa de crecimiento estimada (k): 0.005928689463036035\n"
     ]
    },
    {
     "data": {
      "text/plain": "<Figure size 800x600 with 1 Axes>",
      "image/png": "[encoded data removed]"
     },
     "metadata": {},
     "output_type": "display_data"
    }
   ],
   "source": [
    "# Definir los datos experimentales\n",
    "t = data_10.index.values\n",
    "C = data_10['POBLACIÓN'].values\n",
    "\n",
    "# Conversión de los datos a tipo float\n",
    "\n",
    "t = t.astype(float)\n",
    "# Convertir los valores a tipo float\n",
    "C = np.array(C, dtype=float)\n",
    "\n",
    "# Definir los valores iniciales de C0 y k, estos fueron tomados a partir de lo esperado y la relación entre los datos experimentales\n",
    "k_inicial = np.log(C[0] / C[-1]) / (t[0] - t[-1])\n",
    "x0 = np.array([C[-1], k_inicial])\n",
    "\n",
    "# Resolver el problema utilizando el método de región de confianza\n",
    "params_rc, itera = region_confianza(objective_function, x0, t, C)\n",
    "\n",
    "C0_optimo, k_optimo = params_rc\n",
    "\n",
    "# Mostrar los resultados\n",
    "print('Parámetros encontrados por región de confianza:')\n",
    "print('Población inicial estimada (C0):', C0_optimo)\n",
    "print('Tasa de crecimiento estimada (k):', k_optimo)\n",
    "\n",
    "#Impresión de la función obtenida por región de confianza\n",
    "plt.figure(figsize=(8, 6))  # Definir el tamaño de la figura\n",
    "\n",
    "# Gráfico de la función obtenida por región de confianza\n",
    "plt.plot(data_10.index, C0_optimo * np.exp(k_optimo * t), color='red')  # Modelo exponencial ajustado\n",
    "plt.scatter(data_10.index, data_10['POBLACIÓN'], color='blue', marker='.')  # Scatter plot\n",
    "plt.title('Modelo exponencial ajustado por región de confianza')  # Título del gráfico\n",
    "plt.xlabel('Año')  # Etiqueta del eje x\n",
    "plt.ylabel('Población')  # Etiqueta del eje y\n",
    "\n",
    "plt.grid(True)  # Mostrar una cuadrícula en el gráfico\n",
    "\n",
    "plt.show()  # Mostrar el gráfico"
   ],
   "metadata": {
    "collapsed": false,
    "ExecuteTime": {
     "end_time": "2024-08-13T01:25:32.428536400Z",
     "start_time": "2024-08-13T01:25:27.067598600Z"
    }
   },
   "id": "ffe3a0a0d4fe63aa"
  },
  {
   "cell_type": "markdown",
   "source": [
    "Hagamos la misma traslación realizada para todo el conjunto de datos en el conjunto de datos seleccionado, con el fin de ver como se comporta la población en función del tiempo y de la forma en que debería ajustarse el modelo exponencial a los datos experimentales."
   ],
   "metadata": {
    "collapsed": false
   },
   "id": "aea0d6bc38f2ff98"
  },
  {
   "cell_type": "code",
   "execution_count": 18,
   "outputs": [
    {
     "name": "stdout",
     "output_type": "stream",
     "text": [
      "Parámetros encontrados por región de confianza:\n",
      "Población inicial estimada (C0): 37881973.00000149\n",
      "Tasa de crecimiento estimada (k): 0.005928770316967909\n"
     ]
    },
    {
     "data": {
      "text/plain": "<Figure size 800x600 with 1 Axes>",
      "image/png": "[encoded data removed]"
     },
     "metadata": {},
     "output_type": "display_data"
    }
   ],
   "source": [
    "# Trasladar el tiempo para que el tiempo inicial sea el año 1971\n",
    "data_10_traslacion = data_10.copy()\n",
    "data_10_traslacion.index = data_10_traslacion.index - 1982\n",
    "\n",
    "# Definir los datos experimentales\n",
    "t = data_10_traslacion.index.values\n",
    "C = data_10_traslacion['POBLACIÓN'].values\n",
    "    \n",
    "# Conversión de los datos a tipo float\n",
    "\n",
    "t = t.astype(float)\n",
    "# Convertir los valores a tipo float\n",
    "C = np.array(C, dtype=float)\n",
    "\n",
    "# Definir los valores iniciales de C0 y k, estos fueron tomados a partir de lo esperado y la relación entre los datos experimentales\n",
    "k_inicial = np.log(C[0] / C[-1]) / (t[0] - t[-1])\n",
    "x0 = np.array([C[-1], k_inicial])\n",
    "\n",
    "# Resolver el problema utilizando el método de región de confianza\n",
    "params_rc, itera = region_confianza(objective_function, x0, t, C)\n",
    "\n",
    "C0_optimo, k_optimo = params_rc\n",
    "\n",
    "# Mostrar los resultados\n",
    "print('Parámetros encontrados por región de confianza:')\n",
    "print('Población inicial estimada (C0):', C0_optimo)\n",
    "print('Tasa de crecimiento estimada (k):', k_optimo)\n",
    "\n",
    "#Impresión de la función obtenida por región de confianza\n",
    "plt.figure(figsize=(8, 6))  # Definir el tamaño de la figura\n",
    "\n",
    "# Gráfico de la función obtenida por región de confianza\n",
    "plt.plot(data_10_traslacion.index, C0_optimo * np.exp(k_optimo * t), color='red')  # Modelo exponencial ajustado\n",
    "plt.scatter(data_10_traslacion.index, data_10_traslacion['POBLACIÓN'], color='blue', marker='.')  # Scatter plot\n",
    "plt.title('Modelo exponencial ajustado por región de confianza')  # Título del gráfico\n",
    "plt.xlabel('Año')  # Etiqueta del eje x\n",
    "plt.ylabel('Población')  # Etiqueta del eje y\n",
    "\n",
    "plt.grid(True)  # Mostrar una cuadrícula en el gráfico\n",
    "\n",
    "plt.show()  # Mostrar el gráfico\n"
   ],
   "metadata": {
    "collapsed": false,
    "ExecuteTime": {
     "end_time": "2024-08-13T01:29:13.905298400Z",
     "start_time": "2024-08-13T01:29:08.511164Z"
    }
   },
   "id": "e3cb214bf58a1abd"
  },
  {
   "cell_type": "markdown",
   "source": [
    "Resulta que las gráficas de ambos métodos también resultan ser bastante parecidas, aunque lógicamente deben diferir en pequeños valores dados por la solución de los métodos. Así pues, los modelos exponenciales ajustados por ambos métodos son muy similares, lo cual sugiere que ambos métodos son efectivos para resolver el problema de ajuste de curvas a los datos experimentales. Por último, se procederá a realizar una comparación entre los tiempos de ejecución de ambos métodos."
   ],
   "metadata": {
    "collapsed": false
   },
   "id": "94a4c5ed36c37833"
  },
  {
   "cell_type": "code",
   "execution_count": 276,
   "outputs": [
    {
     "name": "stdout",
     "output_type": "stream",
     "text": [
      "Tiempo de ejecución del método de región de confianza: 5.068442106246948\n",
      "Tiempo de ejecución del método de Gauss-Newton: 6.508516550064087\n"
     ]
    }
   ],
   "source": [
    "import time\n",
    "\n",
    "# Método de región de confianza\n",
    "start_time = time.time()\n",
    "params_rc = region_confianza(objective_function, x0, t, C)\n",
    "end_time = time.time()\n",
    "tiempo_rc = end_time - start_time\n",
    "\n",
    "# Método de Gauss-Newton\n",
    "start_time = time.time()\n",
    "params_gn = gauss_newton(objective_function, x0, t, C)\n",
    "end_time = time.time()\n",
    "tiempo_gn = end_time - start_time\n",
    "\n",
    "print('Tiempo de ejecución del método de región de confianza:', tiempo_rc)\n",
    "print('Tiempo de ejecución del método de Gauss-Newton:', tiempo_gn)"
   ],
   "metadata": {
    "collapsed": false,
    "ExecuteTime": {
     "end_time": "2024-04-07T18:47:55.263890800Z",
     "start_time": "2024-04-07T18:47:43.678508900Z"
    }
   },
   "id": "fc947e92d9917fa9"
  },
  {
   "cell_type": "markdown",
   "source": [
    "Como pudimos observar, el método de región de confianza tuvo un tiempo de ejecución de aproximadamente 5.1 segundos, mientras que el método de Gauss-Newton tuvo un tiempo de ejecución de aproximadamente 6.6 segundos. Por lo tanto, el método de región de confianza fue más rápido que el método de Gauss-Newton en este caso particular, aunque la diferencia en tiempo de ejecución no fue significativa. En general, ambos métodos son efectivos para resolver el problema de ajuste de curvas a los datos experimentales, aunque el método de región de confianza fue ligeramente más rápido en este caso particular, a pesar de que este tiempo de ejecución puede variar dependiendo de la complejidad del problema y de la implementación de los métodos.\n",
    "\n",
    "En conclusión, en la realización de estos métodos se pudo evidenciar que ambos llegan a la solución del problema de mínimos cuadrados en un proceso bastante rápido, en donde ya es cuestión del usuario o del optimizador analizar los problemas y buscar cuál se adapta más, dadas las condiciones de los mismos y la complejidad de estos. Ahora bien, estos métodos difieren en su nivel de complejidad en términos de programación, pues el método de Gauss-Newton parece ser un método mucho más simple que el otro en cuestión, por lo que esto también puede ser determinante a la hora de escoger el método con el cual trabajar. Además de esto, como experiencia que deja el trabajo, podemos decir que es importante analizar muy bien el problema teóricamente, y verificar temas como los puntos iniciales, el manejo y la búsqueda de datos y las dimensiones de las matrices con las cuales se esta trabajando, esto puede llegar a ser bastante tedioso y puede llevar a errores muy simples, pero que se escapan al ojo humano, y una revisada del problema te puede ayudar a evitar estos problemas y a hacer un mejor manejo de los datos brindados. Finalmente, se puede decir que el trabajo fue bastante interesante y que se logró cumplir con los objetivos planteados en la tarea y pudimos ver como los métodos fueron de ayuda para resolver un problema de la vida cotidiana, como lo es el ajuste de curvas a datos experimentales, en nuestro caso, la población de un país en función del tiempo."
   ],
   "metadata": {
    "collapsed": false
   },
   "id": "bf65ef376eca0470"
  }
 ],
 "metadata": {
  "kernelspec": {
   "display_name": "Python 3",
   "language": "python",
   "name": "python3"
  },
  "language_info": {
   "codemirror_mode": {
    "name": "ipython",
    "version": 2
   },
   "file_extension": ".py",
   "mimetype": "text/x-python",
   "name": "python",
   "nbconvert_exporter": "python",
   "pygments_lexer": "ipython2",
   "version": "2.7.6"
  }
 },
 "nbformat": 4,
 "nbformat_minor": 5
}
