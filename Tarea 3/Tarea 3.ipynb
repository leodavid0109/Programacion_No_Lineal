{
 "cells": [
  {
   "cell_type": "markdown",
   "source": [
    "# Tarea 3: Constrained Optimization - Programación No Lineal\n",
    "## Autor: Leonard David Vivas Dallos\n",
    "\n",
    "### Instrucción: \n",
    "La actividad a realizar es la siguiente:\n",
    "\n",
    "Elegir dos problemas aplicados relacionados con LP y QP. Realizar un documento donde se presenten estas aplicaciones y solucionarlo usando los métodos trabajados en los cursos. Se pueden usar implementaciones disponibles. Haga un análisis de los resultados obtenidos.\n",
    "\n",
    "Se deben subir al Moodle los siguientes archivos: \n",
    "\n",
    "- Informe escrito \n",
    "- Códigos usados en las implementaciones"
   ],
   "metadata": {
    "collapsed": false
   },
   "id": "2a725dcdeb2718f"
  },
  {
   "cell_type": "markdown",
   "source": [
    "## Problema 1: Programación Lineal\n",
    "\n",
    "### Descripción del problema\n",
    "\n",
    "En la vida diaria, a menudo nos encontramos con problemas cotidianos que a simple vista parecen ser difíciles de resolver, pero que en realidad pueden ser resueltos mediante la formulación de un problema de programación lineal, tales como la distribución de recursos de una empresa, la minimización de gastos en un proyecto arquitectónico, entre otros. En este caso, presentaremos un problema que tiene que ver con la distribución de recursos útiles durante una tormenta de nieve en una ciudad en Canadá, problema que perfectamente puede ser aplicado para la distribución de distintos recursos en cualquier ciudad, cambiando un poco los datos o los objetivos que se manejan. \n",
    "\n",
    "La formulación del problema de programación lineal fue tomada de la formulación realizada por el profesor Pedro Antonio Teppa Garrán de la Universidad Metropolitana, específicamente en una presentación de varias aplicaciones de problemas y su posterior análisis y formulación del mismo como un problema de programación lineal. Así pues, el problema es el siguiente:\n",
    "\n",
    "Una ciudad mediana en Canadá tiene dos ubicaciones en las que se mantienen reservas de sal y arena para usarlas durante las heladas y tormentas de nieve. Durante la tormenta, se distribuyen sal y arena desde estas dos ubicaciones hacia cuatro zonas diferentes de la ciudad. En ocasiones se necesita más sal y arena. Sin embargo, con frecuencia es imposible obtener provisiones adicionales durante una tormenta dado que las reservas se encuentran en una posición central distante de la ciudad. Los funcionarios de la ciudad esperan que no haya tormentas en sitios opuestos.\n",
    "En una Tabla se resume el costo de abastecimiento de una tonelada de sal o arena desde cada reserva hasta cada zona de la ciudad. Además, se indican las capacidades de reserva y los niveles normales de demanda para cada zona (en toneladas)\n",
    "\n",
    "La tabla es la siguiente:\n",
    "\n",
    "![](Tabla.png)\n",
    "\n",
    "El director de obras públicas se interesa en determinar el costo mínimo de distribuir las reservas de sal y arena durante una tormenta."
   ],
   "metadata": {
    "collapsed": false
   },
   "id": "f702d0b2726d86a0"
  },
  {
   "cell_type": "markdown",
   "source": [
    "### Análisis y formulación del problema\n",
    "\n",
    "Como podemos evidenciar por el enunciado, los parámetros de nuestro problema son los siguientes:\n",
    "- Costo de abastecimiento de una tonelada de sal o arena desde cada reserva hasta cada zona de la ciudad.\n",
    "- Capacidades de reserva.\n",
    "- Niveles normales de demanda para cada zona (en toneladas).\n",
    "\n",
    "Nuestro objetivo será entonces minimizar el costo de distribuir las reservas de sal y arena durante una tormenta. Ahora bien, lo que sigue es formular el problema como un problema de programación lineal. Para ello, definimos las siguientes variables de decisión:\n",
    "\n",
    "- $x_{ij}$: Cantidad de toneladas de sal o arena que se distribuyen desde la reserva $i$ hacia la zona $j$.\n",
    "\n",
    "Por las formulaciones de nuestro problema, podemos notar que son 8 variables de decisión, ya que tenemos 2 reservas y 4 zonas, es decir, serán 8 incógnitas a resolver. \n",
    "Ahora bien, como lo que queremos es minimizar costos, nuestra función objetivo será la siguiente:\n",
    "\n",
    "$$f = 2x_{11} + 3x_{12} + 1.5x_{13} + 2.5x_{14} + 4x_{21} + 3.5x_{22} + 2.5x_{23} + 3x_{24}$$\n",
    "\n",
    "donde f es el costo total de distribuir las reservas de sal y arena durante una tormenta y está en dólares.\n",
    "\n",
    "Además, por las condiciones del problema nos encontramos con distintas restricciones, en términos de las capacidades máximas que pueden ofertar cada una de las reservas y las demandas de cada una de las zonas. Por lo tanto, las restricciones serán las siguientes:\n",
    "\n",
    "**Restricciones de capacidad de reserva:**\n",
    "\n",
    "- $x_{11} + x_{12} + x_{13} + x_{14} \\leq 900$ - Corresponde a la capacidad de la reserva 1.\n",
    "- $x_{21} + x_{22} + x_{23} + x_{24} \\leq 750$ - Corresponde a la capacidad de la reserva 2.\n",
    "\n",
    "**Restricciones de demanda de zona:**\n",
    "\n",
    "- $x_{11} + x_{21} = 300$ - Corresponde a la demanda de la zona 1.\n",
    "- $x_{12} + x_{22} = 450$ - Corresponde a la demanda de la zona 2.\n",
    "- $x_{13} + x_{23} = 500$ - Corresponde a la demanda de la zona 3.\n",
    "- $x_{14} + x_{24} = 350$ - Corresponde a la demanda de la zona 4.\n",
    "\n",
    "**Restricciones de no negatividad:**\n",
    "\n",
    "- $x_{ij} \\geq 0$ para todo $i$ y $j$.\n",
    "\n",
    "\n",
    "Así pues, finalmente nuestro problema de programación lineal será el siguiente:\n",
    "\n",
    "$$\\text{Min } f = 2x_{11} + 3x_{12} + 1.5x_{13} + 2.5x_{14} + 4x_{21} + 3.5x_{22} + 2.5x_{23} + 3x_{24}$$\n",
    "$$\\text{Sujeto a: }$$\n",
    "$$x_{11} + x_{12} + x_{13} + x_{14} \\leq 900$$\n",
    "$$x_{21} + x_{22} + x_{23} + x_{24} \\leq 750$$\n",
    "$$x_{11} + x_{21} = 300$$\n",
    "$$x_{12} + x_{22} = 450$$\n",
    "$$x_{13} + x_{23} = 500$$\n",
    "$$x_{14} + x_{24} = 350$$\n",
    "$$x_{11}, x_{12}, x_{13}, x_{14}, x_{21}, x_{22}, x_{23}, x_{24} \\geq 0$$"
   ],
   "metadata": {
    "collapsed": false
   },
   "id": "ed6190a5c00da8b0"
  },
  {
   "cell_type": "markdown",
   "source": [
    "### Solución del problema\n",
    "\n",
    "Una vez tenemos formulado nuestro problema, solo resta resolverlo. Para ello, usaremos dos métodos distintos: el método de la librería Scipy y el método de la librería PuLP. Se realizará un análisis de cada uno de estos y posterior a esto se compararán los resultados obtenidos."
   ],
   "metadata": {
    "collapsed": false
   },
   "id": "5e05c632443b52fa"
  },
  {
   "cell_type": "markdown",
   "source": [
    "#### Método de la librería Scipy"
   ],
   "metadata": {
    "collapsed": false
   },
   "id": "7d3ad9ee6a63f73d"
  },
  {
   "cell_type": "code",
   "execution_count": 204,
   "outputs": [],
   "source": [
    "# Importamos las librerías necesarias\n",
    "from scipy.optimize import linprog"
   ],
   "metadata": {
    "collapsed": false,
    "ExecuteTime": {
     "end_time": "2024-09-23T22:46:57.083494300Z",
     "start_time": "2024-09-23T22:46:56.842666900Z"
    }
   },
   "id": "5b1e3e2f7340f1cb"
  },
  {
   "cell_type": "code",
   "execution_count": 205,
   "outputs": [],
   "source": [
    "# Primero, deberemos definir nuestra función objetivo y las restricciones\n",
    "funcion_objetivo = [2, 3, 1.5, 2.5, 4, 3.5, 2.5, 3] # Cada uno de los coeficientes de la función objetivo\n",
    "\n",
    "# Restricciones\n",
    "# Restricciones de desigualdad (capacidad de reserva)\n",
    "lado_izq_desigualdad = [[1, 1, 1, 1, 0, 0, 0, 0],\n",
    "                        [0, 0, 0, 0, 1, 1, 1, 1]] # Coeficientes de las restricciones de desigualdad\n",
    "\n",
    "lado_derecho_desigualdad = [900,\n",
    "                           750] # Lado derecho de las restricciones de desigualdad\n",
    "\n",
    "# Restricciones de igualdad (demanda de zona)\n",
    "lado_izq_igualdad = [[1, 0, 0, 0, 1, 0, 0, 0],\n",
    "                     [0, 1, 0, 0, 0, 1, 0, 0],\n",
    "                     [0, 0, 1, 0, 0, 0, 1, 0],\n",
    "                     [0, 0, 0, 1, 0, 0, 0, 1]] # Coeficientes de las restricciones de igualdad\n",
    "\n",
    "lado_derecho_igualdad = [300,\n",
    "                         450,\n",
    "                         500,\n",
    "                         350] # Lado derecho de las restricciones de igualdad"
   ],
   "metadata": {
    "collapsed": false,
    "ExecuteTime": {
     "end_time": "2024-09-23T22:46:57.163441400Z",
     "start_time": "2024-09-23T22:46:56.845212800Z"
    }
   },
   "id": "8c749b2ce3e8d55b"
  },
  {
   "cell_type": "code",
   "execution_count": 206,
   "outputs": [],
   "source": [
    "# Definimos los límites de las variables (Se definen por buenas prácticas, ya que por defecto las variables son no negativas)\n",
    "limite_variables = [(0, float(\"inf\")) for i in range(8)] # Las variables son no negativas"
   ],
   "metadata": {
    "collapsed": false,
    "ExecuteTime": {
     "end_time": "2024-09-23T22:46:57.174107Z",
     "start_time": "2024-09-23T22:46:56.851285600Z"
    }
   },
   "id": "16b1bbcd0cda2127"
  },
  {
   "cell_type": "code",
   "execution_count": 207,
   "outputs": [
    {
     "name": "stderr",
     "output_type": "stream",
     "text": [
      "C:\\Users\\David\\AppData\\Local\\Temp\\ipykernel_29768\\3639968613.py:2: DeprecationWarning: `method='interior-point'` is deprecated and will be removed in SciPy 1.11.0. Please use one of the HiGHS solvers (e.g. `method='highs'`) in new code.\n",
      "  resultado_s = linprog(c=funcion_objetivo, A_ub=lado_izq_desigualdad, b_ub=lado_derecho_desigualdad,\n"
     ]
    }
   ],
   "source": [
    "# Resolvemos el problema\n",
    "resultado_s = linprog(c=funcion_objetivo, A_ub=lado_izq_desigualdad, b_ub=lado_derecho_desigualdad,\n",
    "                      A_eq=lado_izq_igualdad, b_eq=lado_derecho_igualdad, bounds=limite_variables, \n",
    "                      method=\"interior-point\")"
   ],
   "metadata": {
    "collapsed": false,
    "ExecuteTime": {
     "end_time": "2024-09-23T22:46:57.400903400Z",
     "start_time": "2024-09-23T22:46:56.856990400Z"
    }
   },
   "id": "ded2647289e83aa1"
  },
  {
   "cell_type": "code",
   "execution_count": 208,
   "outputs": [
    {
     "name": "stdout",
     "output_type": "stream",
     "text": [
      "Solución del problema de programación lineal usando Scipy:\n",
      " message: Optimization terminated successfully.\n",
      " success: True\n",
      "  status: 0\n",
      "     fun: 3924.9999611675694\n",
      "       x: [ 3.000e+02  1.320e+01  5.000e+02  8.680e+01  1.106e-06\n",
      "            4.368e+02  3.328e-06  2.632e+02]\n",
      "     nit: 6\n"
     ]
    }
   ],
   "source": [
    "# Mostramos los resultados\n",
    "print(\"Solución del problema de programación lineal usando Scipy:\")\n",
    "print(resultado_s)"
   ],
   "metadata": {
    "collapsed": false,
    "ExecuteTime": {
     "end_time": "2024-09-23T22:46:57.400903400Z",
     "start_time": "2024-09-23T22:46:56.866821Z"
    }
   },
   "id": "feaa860f81946c91"
  },
  {
   "cell_type": "code",
   "execution_count": 209,
   "outputs": [
    {
     "name": "stdout",
     "output_type": "stream",
     "text": [
      "Solución del problema de programación lineal usando Scipy:\n",
      "Costo total:  3924.9999611675694\n",
      "Cantidad de toneladas de sal o arena que se distribuyen desde la reserva 1 hacia la zona 1:  299.9999956757198\n",
      "Cantidad de toneladas de sal o arena que se distribuyen desde la reserva 1 hacia la zona 2:  13.199370580672007\n",
      "Cantidad de toneladas de sal o arena que se distribuyen desde la reserva 1 hacia la zona 3:  499.9999912931002\n",
      "Cantidad de toneladas de sal o arena que se distribuyen desde la reserva 1 hacia la zona 4:  86.80063273557427\n",
      "Cantidad de toneladas de sal o arena que se distribuyen desde la reserva 2 hacia la zona 1:  1.1058467363375432e-06\n",
      "Cantidad de toneladas de sal o arena que se distribuyen desde la reserva 2 hacia la zona 2:  436.80062458087764\n",
      "Cantidad de toneladas de sal o arena que se distribuyen desde la reserva 2 hacia la zona 3:  3.3284432350422902e-06\n",
      "Cantidad de toneladas de sal o arena que se distribuyen desde la reserva 2 hacia la zona 4:  263.1993635059869\n",
      "Optimización finalizada:  True\n",
      "Cantidad de iteraciones:  6\n"
     ]
    }
   ],
   "source": [
    "# Mostrando un poco mejor los resultados tenemos\n",
    "print(\"Solución del problema de programación lineal usando Scipy:\")\n",
    "print(\"Costo total: \", resultado_s.fun)\n",
    "print(\"Cantidad de toneladas de sal o arena que se distribuyen desde la reserva 1 hacia la zona 1: \", resultado_s.x[0])\n",
    "print(\"Cantidad de toneladas de sal o arena que se distribuyen desde la reserva 1 hacia la zona 2: \", resultado_s.x[1])\n",
    "print(\"Cantidad de toneladas de sal o arena que se distribuyen desde la reserva 1 hacia la zona 3: \", resultado_s.x[2])\n",
    "print(\"Cantidad de toneladas de sal o arena que se distribuyen desde la reserva 1 hacia la zona 4: \", resultado_s.x[3])\n",
    "print(\"Cantidad de toneladas de sal o arena que se distribuyen desde la reserva 2 hacia la zona 1: \", resultado_s.x[4])\n",
    "print(\"Cantidad de toneladas de sal o arena que se distribuyen desde la reserva 2 hacia la zona 2: \", resultado_s.x[5])\n",
    "print(\"Cantidad de toneladas de sal o arena que se distribuyen desde la reserva 2 hacia la zona 3: \", resultado_s.x[6])\n",
    "print(\"Cantidad de toneladas de sal o arena que se distribuyen desde la reserva 2 hacia la zona 4: \", resultado_s.x[7])\n",
    "\n",
    "print(\"Optimización finalizada: \", resultado_s.success)\n",
    "print(\"Cantidad de iteraciones: \", resultado_s.nit)"
   ],
   "metadata": {
    "collapsed": false,
    "ExecuteTime": {
     "end_time": "2024-09-23T22:46:57.400903400Z",
     "start_time": "2024-09-23T22:46:56.876840600Z"
    }
   },
   "id": "501104a7724ad1ee"
  },
  {
   "cell_type": "markdown",
   "source": [
    "#### Método de la librería PuLP"
   ],
   "metadata": {
    "collapsed": false
   },
   "id": "fac98773670e0bc5"
  },
  {
   "cell_type": "code",
   "execution_count": 210,
   "outputs": [],
   "source": [
    "# Importamos las librerías necesarias\n",
    "from pulp import LpMinimize, LpVariable, LpStatus, LpProblem"
   ],
   "metadata": {
    "collapsed": false,
    "ExecuteTime": {
     "end_time": "2024-09-23T22:46:57.432169400Z",
     "start_time": "2024-09-23T22:46:56.882983Z"
    }
   },
   "id": "244fb415ee9af820"
  },
  {
   "cell_type": "code",
   "execution_count": 211,
   "outputs": [],
   "source": [
    "# Creamos el problema\n",
    "problema = LpProblem(name=\"Distribución de sal y arena\", sense=LpMinimize)"
   ],
   "metadata": {
    "collapsed": false,
    "ExecuteTime": {
     "end_time": "2024-09-23T22:46:57.432169400Z",
     "start_time": "2024-09-23T22:46:56.888741200Z"
    }
   },
   "id": "a18797d5fc385b40"
  },
  {
   "cell_type": "code",
   "execution_count": 212,
   "outputs": [],
   "source": [
    "# Definimos las variables de decisión\n",
    "x11 = LpVariable(name=\"x11\", lowBound=0)\n",
    "x12 = LpVariable(name=\"x12\", lowBound=0)\n",
    "x13 = LpVariable(name=\"x13\", lowBound=0)\n",
    "x14 = LpVariable(name=\"x14\", lowBound=0)\n",
    "x21 = LpVariable(name=\"x21\", lowBound=0)\n",
    "x22 = LpVariable(name=\"x22\", lowBound=0)\n",
    "x23 = LpVariable(name=\"x23\", lowBound=0)\n",
    "x24 = LpVariable(name=\"x24\", lowBound=0)"
   ],
   "metadata": {
    "collapsed": false,
    "ExecuteTime": {
     "end_time": "2024-09-23T22:46:57.432169400Z",
     "start_time": "2024-09-23T22:46:56.894999700Z"
    }
   },
   "id": "9fe090620280c5a5"
  },
  {
   "cell_type": "code",
   "execution_count": 213,
   "outputs": [],
   "source": [
    "# Añadimos las restricciones al modelo\n",
    "problema += (x11 + x12 + x13 + x14 <= 900, \"capacidad_reserva1\")\n",
    "problema += (x21 + x22 + x23 + x24 <= 750, \"capacidad_reserva2\")\n",
    "problema += (x11 + x21 == 300, \"demanda_zona1\")\n",
    "problema += (x12 + x22 == 450, \"demanda_zona2\")\n",
    "problema += (x13 + x23 == 500, \"demanda_zona3\")\n",
    "problema += (x14 + x24 == 350, \"demanda_zona4\")"
   ],
   "metadata": {
    "collapsed": false,
    "ExecuteTime": {
     "end_time": "2024-09-23T22:46:57.463665400Z",
     "start_time": "2024-09-23T22:46:56.903937300Z"
    }
   },
   "id": "419afedb78f1cc9e"
  },
  {
   "cell_type": "code",
   "execution_count": 214,
   "outputs": [],
   "source": [
    "# Definimos la función objetivo\n",
    "problema += 2*x11 + 3*x12 + 1.5*x13 + 2.5*x14 + 4*x21 + 3.5*x22 + 2.5*x23 + 3*x24"
   ],
   "metadata": {
    "collapsed": false,
    "ExecuteTime": {
     "end_time": "2024-09-23T22:46:57.479058600Z",
     "start_time": "2024-09-23T22:46:56.909753700Z"
    }
   },
   "id": "cf05932fc4564939"
  },
  {
   "cell_type": "code",
   "execution_count": 215,
   "outputs": [
    {
     "name": "stdout",
     "output_type": "stream",
     "text": [
      "Distribución_de_sal_y_arena:\n",
      "MINIMIZE\n",
      "2*x11 + 3*x12 + 1.5*x13 + 2.5*x14 + 4*x21 + 3.5*x22 + 2.5*x23 + 3*x24 + 0.0\n",
      "SUBJECT TO\n",
      "capacidad_reserva1: x11 + x12 + x13 + x14 <= 900\n",
      "\n",
      "capacidad_reserva2: x21 + x22 + x23 + x24 <= 750\n",
      "\n",
      "demanda_zona1: x11 + x21 = 300\n",
      "\n",
      "demanda_zona2: x12 + x22 = 450\n",
      "\n",
      "demanda_zona3: x13 + x23 = 500\n",
      "\n",
      "demanda_zona4: x14 + x24 = 350\n",
      "\n",
      "VARIABLES\n",
      "x11 Continuous\n",
      "x12 Continuous\n",
      "x13 Continuous\n",
      "x14 Continuous\n",
      "x21 Continuous\n",
      "x22 Continuous\n",
      "x23 Continuous\n",
      "x24 Continuous\n"
     ]
    }
   ],
   "source": [
    "# Veamos el problema\n",
    "print(problema)"
   ],
   "metadata": {
    "collapsed": false,
    "ExecuteTime": {
     "end_time": "2024-09-23T22:46:57.494949600Z",
     "start_time": "2024-09-23T22:46:56.919811300Z"
    }
   },
   "id": "7c2c13038dd6e75d"
  },
  {
   "cell_type": "code",
   "execution_count": 216,
   "outputs": [],
   "source": [
    "# Resolvemos el problema\n",
    "status = problema.solve()"
   ],
   "metadata": {
    "collapsed": false,
    "ExecuteTime": {
     "end_time": "2024-09-23T22:46:57.557183200Z",
     "start_time": "2024-09-23T22:46:56.922017900Z"
    }
   },
   "id": "f22ceb1b75be600e"
  },
  {
   "cell_type": "code",
   "execution_count": 217,
   "outputs": [
    {
     "name": "stdout",
     "output_type": "stream",
     "text": [
      "Solución del problema de programación lineal usando PuLP:\n",
      "1\n"
     ]
    }
   ],
   "source": [
    "# Mostramos los resultados\n",
    "print(\"Solución del problema de programación lineal usando PuLP:\")\n",
    "print(status) # Si el status es 1, entonces la solución es óptima"
   ],
   "metadata": {
    "collapsed": false,
    "ExecuteTime": {
     "end_time": "2024-09-23T22:46:57.572808Z",
     "start_time": "2024-09-23T22:46:56.954510900Z"
    }
   },
   "id": "bd6b4acdc4a68e73"
  },
  {
   "cell_type": "code",
   "execution_count": 218,
   "outputs": [
    {
     "name": "stdout",
     "output_type": "stream",
     "text": [
      "Solución del problema de programación lineal usando PuLP:\n",
      "Status:  Optimal\n",
      "Costo total:  3925.0\n",
      "Cantidad de toneladas de sal o arena que se distribuyen desde la reserva 1 hacia la zona 1:  300.0\n",
      "Cantidad de toneladas de sal o arena que se distribuyen desde la reserva 1 hacia la zona 2:  0.0\n",
      "Cantidad de toneladas de sal o arena que se distribuyen desde la reserva 1 hacia la zona 3:  500.0\n",
      "Cantidad de toneladas de sal o arena que se distribuyen desde la reserva 1 hacia la zona 4:  100.0\n",
      "Cantidad de toneladas de sal o arena que se distribuyen desde la reserva 2 hacia la zona 1:  0.0\n",
      "Cantidad de toneladas de sal o arena que se distribuyen desde la reserva 2 hacia la zona 2:  450.0\n",
      "Cantidad de toneladas de sal o arena que se distribuyen desde la reserva 2 hacia la zona 3:  0.0\n",
      "Cantidad de toneladas de sal o arena que se distribuyen desde la reserva 2 hacia la zona 4:  250.0\n"
     ]
    }
   ],
   "source": [
    "# Mostramos los resultados\n",
    "print(\"Solución del problema de programación lineal usando PuLP:\")\n",
    "print(\"Status: \", LpStatus[status])\n",
    "print(\"Costo total: \", problema.objective.value())\n",
    "print(\"Cantidad de toneladas de sal o arena que se distribuyen desde la reserva 1 hacia la zona 1: \", x11.value())\n",
    "print(\"Cantidad de toneladas de sal o arena que se distribuyen desde la reserva 1 hacia la zona 2: \", x12.value())\n",
    "print(\"Cantidad de toneladas de sal o arena que se distribuyen desde la reserva 1 hacia la zona 3: \", x13.value())\n",
    "print(\"Cantidad de toneladas de sal o arena que se distribuyen desde la reserva 1 hacia la zona 4: \", x14.value())\n",
    "print(\"Cantidad de toneladas de sal o arena que se distribuyen desde la reserva 2 hacia la zona 1: \", x21.value())\n",
    "print(\"Cantidad de toneladas de sal o arena que se distribuyen desde la reserva 2 hacia la zona 2: \", x22.value())\n",
    "print(\"Cantidad de toneladas de sal o arena que se distribuyen desde la reserva 2 hacia la zona 3: \", x23.value())\n",
    "print(\"Cantidad de toneladas de sal o arena que se distribuyen desde la reserva 2 hacia la zona 4: \", x24.value())\n"
   ],
   "metadata": {
    "collapsed": false,
    "ExecuteTime": {
     "end_time": "2024-09-23T22:46:57.572808Z",
     "start_time": "2024-09-23T22:46:56.961402Z"
    }
   },
   "id": "9865a8c0c64df6e7"
  },
  {
   "cell_type": "code",
   "execution_count": 219,
   "outputs": [
    {
     "name": "stdout",
     "output_type": "stream",
     "text": [
      "<pulp.apis.coin_api.PULP_CBC_CMD object at 0x0000027DD0720E50>\n"
     ]
    }
   ],
   "source": [
    "# Impresión del modelo usado para analizarlo\n",
    "print(problema.solver)"
   ],
   "metadata": {
    "collapsed": false,
    "ExecuteTime": {
     "end_time": "2024-09-23T22:46:57.572808Z",
     "start_time": "2024-09-23T22:46:56.969018500Z"
    }
   },
   "id": "8b9805bb09bc0497"
  },
  {
   "cell_type": "markdown",
   "source": [
    "#### Análisis de los resultados\n",
    "\n",
    "Como pudimos notar, los resultados obtenidos por ambas librerías son distintos en lo que respecta a los valores de las variables de decisión, pero el costo total obtenido es aproximadamente el mismo. En una mirada somera podría parecer raro pero se deduce que esto se genera por la forma en que cada librería resuelve el problema. En el caso de Scipy, se resuelve el problema mediante el método del punto interior, mientras que en PuLP se resuelve mediante el método simplex primal o dual, por la manera en que se conecta la librería con la API. Por lo tanto, es normal que los resultados sean distintos, pero el costo total obtenido es el mismo, lo cual nos indica que ambos métodos son correctos y que la solución es óptima en ambos casos. Analicemos un poco más a detalle los resultados obtenidos por cada librería:\n",
    "\n",
    "- **Costo total:** El costo total obtenido por ambas librerías es de aproximadamente $3925, este valor difiere un poco en las últimas cifras decimales, pero que resultan no ser significativas. Esto nos sugiere que nuestra función objetivo tiene varias soluciones óptimas, lo que sugiere que es un problema \"degenerado\". Esto deriva en cambios en las variables de decisión, que veremos a continuación.\n",
    "- **Variables de decisión:** Las variables de decisión obtenidas por ambas librerías son distintas, a pesar de que generan el mismo costo total. Esto se debe a la forma en que cada librería resuelve el problema, como mencionamos anteriormente.\n",
    "\n",
    "Para una mayor seguridad y comprensión de que los resultados son correctos, podríamos intentar resolver el problema usando Scipy con otro método, como el método simplex, para ver si obtenemos los mismos resultados que con PuLP, ya que apriori esta última lo resuelve mediante el método simplex. Esto se hace a pesar de que no es cuestión del curso la aplicación del método simplex, pero para efectos de comparación y análisis de los resultados, sería interesante hacerlo."
   ],
   "metadata": {
    "collapsed": false
   },
   "id": "a2a85bf10c15d8c7"
  },
  {
   "cell_type": "code",
   "execution_count": 220,
   "outputs": [
    {
     "name": "stdout",
     "output_type": "stream",
     "text": [
      "Solución del problema de programación lineal usando Scipy y el método simplex:\n",
      "Costo total:  3925.0\n",
      "Cantidad de toneladas de sal o arena que se distribuyen desde la reserva 1 hacia la zona 1:  300.0\n",
      "Cantidad de toneladas de sal o arena que se distribuyen desde la reserva 1 hacia la zona 2:  0.0\n",
      "Cantidad de toneladas de sal o arena que se distribuyen desde la reserva 1 hacia la zona 3:  500.0\n",
      "Cantidad de toneladas de sal o arena que se distribuyen desde la reserva 1 hacia la zona 4:  100.0\n",
      "Cantidad de toneladas de sal o arena que se distribuyen desde la reserva 2 hacia la zona 1:  0.0\n",
      "Cantidad de toneladas de sal o arena que se distribuyen desde la reserva 2 hacia la zona 2:  450.0\n",
      "Cantidad de toneladas de sal o arena que se distribuyen desde la reserva 2 hacia la zona 3:  0.0\n",
      "Cantidad de toneladas de sal o arena que se distribuyen desde la reserva 2 hacia la zona 4:  250.0\n",
      "Optimización finalizada:  True\n",
      "Cantidad de iteraciones:  10\n"
     ]
    },
    {
     "name": "stderr",
     "output_type": "stream",
     "text": [
      "C:\\Users\\David\\AppData\\Local\\Temp\\ipykernel_29768\\2417028996.py:2: DeprecationWarning: `method='simplex'` is deprecated and will be removed in SciPy 1.11.0. Please use one of the HiGHS solvers (e.g. `method='highs'`) in new code.\n",
      "  resultado_s_simplex = linprog(c=funcion_objetivo, A_ub=lado_izq_desigualdad, b_ub=lado_derecho_desigualdad,\n"
     ]
    }
   ],
   "source": [
    "# Resolviendo el problema con Scipy y el método simplex\n",
    "resultado_s_simplex = linprog(c=funcion_objetivo, A_ub=lado_izq_desigualdad, b_ub=lado_derecho_desigualdad,\n",
    "                              A_eq=lado_izq_igualdad, b_eq=lado_derecho_igualdad, bounds=limite_variables, \n",
    "                              method=\"simplex\")\n",
    "\n",
    "# Mostramos los resultados\n",
    "print(\"Solución del problema de programación lineal usando Scipy y el método simplex:\")\n",
    "print(\"Costo total: \", resultado_s_simplex.fun)\n",
    "print(\"Cantidad de toneladas de sal o arena que se distribuyen desde la reserva 1 hacia la zona 1: \", resultado_s_simplex.x[0])\n",
    "print(\"Cantidad de toneladas de sal o arena que se distribuyen desde la reserva 1 hacia la zona 2: \", resultado_s_simplex.x[1])\n",
    "print(\"Cantidad de toneladas de sal o arena que se distribuyen desde la reserva 1 hacia la zona 3: \", resultado_s_simplex.x[2])\n",
    "print(\"Cantidad de toneladas de sal o arena que se distribuyen desde la reserva 1 hacia la zona 4: \", resultado_s_simplex.x[3])\n",
    "print(\"Cantidad de toneladas de sal o arena que se distribuyen desde la reserva 2 hacia la zona 1: \", resultado_s_simplex.x[4])\n",
    "print(\"Cantidad de toneladas de sal o arena que se distribuyen desde la reserva 2 hacia la zona 2: \", resultado_s_simplex.x[5])\n",
    "print(\"Cantidad de toneladas de sal o arena que se distribuyen desde la reserva 2 hacia la zona 3: \", resultado_s_simplex.x[6])\n",
    "print(\"Cantidad de toneladas de sal o arena que se distribuyen desde la reserva 2 hacia la zona 4: \", resultado_s_simplex.x[7])\n",
    "\n",
    "print(\"Optimización finalizada: \", resultado_s_simplex.success)\n",
    "print(\"Cantidad de iteraciones: \", resultado_s_simplex.nit)\n"
   ],
   "metadata": {
    "collapsed": false,
    "ExecuteTime": {
     "end_time": "2024-09-23T22:46:57.572808Z",
     "start_time": "2024-09-23T22:46:56.974025400Z"
    }
   },
   "id": "c3e0e2e2f8762022"
  },
  {
   "cell_type": "markdown",
   "source": [
    "Como podemos corroborar, la diferencia en la determinación del método a usar para resolver nuestro problema de optimización es de vital importancia para obtener una respuesta u otra. En este caso, obtenemos una minimización del costo total, pero obtenemos valores de decisión distintos para cada uno de los casos. Así pues, se puede concluir que es de vital importancia la elección del método a usar para resolver un problema de optimización, ya que esto puede llevar a obtener resultados distintos, aunque el objetivo sea el mismo.\n",
    "\n",
    "Ahora bien, tomando en cuenta esta última solución del problema son Scipy que nos retorna la cantidad de iteraciones usadas para resolver nuestro problema, podemos deducir que para nuestro caso específico, el método de punto interior llega a la solución más rápido que el método simplex, con una diferencia de 4 iteraciones, lo cual a pesar de ser bastante poco para nuestro caso, puede llegar a ser importante en problemas a gran escala, donde la cantidad de iteraciones puede ser mucho mayor, aunque esto es un análisis que se hace con respecto a las condiciones específicas de nuestro problema, por lo que no se puede generalizar para todos los problemas de optimización.\n",
    "\n",
    "Finalmente, en términos de significado pragmático en nuestro problema, podríamos decir que el segundo de los métodos es mucho mejor, pues nos resulta en valores de la función que son casi enteros, sin muchos decimales. Esto puede llegar a ser útil en el uso de los resultados, ya que se pueden interpretar de una manera más sencilla y rápida, sin necesidad de hacer redondeos o ajustes a los resultados obtenidos."
   ],
   "metadata": {
    "collapsed": false
   },
   "id": "40cfea472ae3c13f"
  },
  {
   "cell_type": "markdown",
   "source": [
    "## Problema 2: Programación Cuadrática\n",
    "\n",
    "### Descripción del problema\n",
    "\n",
    "Uno de los problemas más interesantes que a mi parecer, pueden ser aplicados a la programación cuadrática, se basa en una situación cotidiana a la que se ven enfrentados miles de economistas y empresarios como tal, cuando están en la tarea de analizar y encontrar un portafolio de inversión que maximice los beneficios, pero que a su vez minimice los riesgos.\n",
    "\n",
    "En este caso, nos hemos basado en el documento \"Numerical solution of a general interval quadratic programming model for portfolio selection\" escrito por Wang J, He F, Shi X, y citado de la siguiente manera: Wang J, He F, Shi X (2019) Numerical solution of a general interval quadratic programming model for portfolio selection. PLoS ONE 14(3): e0212913. https://doi.org/10.1371/journal.pone.0212913\n",
    "\n",
    "En este documento, se realiza el análisis de las soluciones numéricas basadas en un modelo de programación cuadrática para la selección de portafolios de inversión, para este fin analiza el modelo desarrollado por Markowitz, con sus propias consideraciones para obtener un modelo general a optimizar, y más aún, se analizan posteriores ejemplos prácticos que serán usados para el fin de estudio en este Notebook.\n",
    "\n",
    "El modelo general para la selección de portafolios se describe como sigue:\n",
    "\n",
    "Supongamos que hay $n$ tipos de activos para que los inversores selecccionen. Basados en el modelo de media-varianza, los inversores pretenden minimizar el riesgo de la cartera $f(x) = x^T \\hat{Q} x = \\sum_{i=1}^{n} \\sum_{j=1}^{n} q_{ij} x_i x_j$ bajo condiciones de rendimientos fijos $\\sum_{i=1}^{n} \\hat{R}_i x_i - \\sum_{i=1}^{n} c_i x_i \\geq \\hat{R}_0$ y tasa de rotación $\\sum_{i=1}^{n} \\hat{l}_i x_i \\geq \\hat{l}_0$. Establecemos entonces un modelo de programación cuadrática general para la selección de portafolios de inversión:\n",
    "\n",
    "$$\\text{Min } f(x) = x^T \\hat{Q} x = \\sum_{i=1}^{n} \\sum_{j=1}^{n} \\hat{q}_{ij} x_i x_j$$\n",
    "$$\\text{Sujeto a: }$$\n",
    "$$\\sum_{i=1}^{n} \\hat{R}_i x_i - \\sum_{i=1}^{n} c_i x_i \\geq \\hat{R}_0$$\n",
    "$$\\sum_{i=1}^{n} \\hat{l}_i x_i \\geq \\hat{l}_0$$\n",
    "$$\\sum_{i=1}^{n} x_i = 1$$\n",
    "$$x_i \\geq 0, i = 1, 2, ..., n$$\n",
    "\n",
    "donde $c_i$ es el costo de transacción de activo $i$, $x_i$ es la fracción de inversión en activo $i$, $\\hat{r}_i$ es el retorno del activo $i$. $\\hat{R}_i$ y $\\hat{l}_i$ son el retorno esperado y las tasas de rotación de activo $i$, respectivamente. $\\hat{Q} = (q_{ij})$ es la matriz de covarianza de los rendimientos de los activos, donde se asume que $\\hat{Q}$ es semidefinida positiva. Como $\\hat{r}_i$ y $\\hat{R}_i$ son inciertos, se consideran intervalos para ellos, es decir, $\\hat{r}_i = [\\underline{r}_i, \\overline{r}_i]$ y $\\hat{R}_i = E\\hat{r}_i = [\\underline{R}_i, \\overline{R}_i]$, $\\hat{q}_{ij} = [\\underline{q}_{ij}, \\overline{q}_{ij}]$, y $\\hat{l}_i = [\\underline{l}_i, \\overline{l}_i]$. Así, solucionando $x = (x_1, x_2, ..., x_n)^T$, en el modelo, se obtiene un portafoilio de inversión."
   ],
   "metadata": {
    "collapsed": false
   },
   "id": "b126825b7a8da77"
  },
  {
   "cell_type": "markdown",
   "source": [
    "Para resolver este problema, debemos obtener un rango para la función minimizada dada la incertidumbre de los rendimientos, manejando un caso pesimista y un caso optimista. Ahora bien, en el documento que se menciona anteriormente se hace un análisis de un método primal-dual del Lagrangiano para resolver dichas cotas que estamos buscando y que de hecho, obtiene unos resultados bastante buenos y que mejoran en cierta medida otros previamente analizados. Sin embargo, como este no fue un método en el que se ahondó mucho en clase, se hará uso del otro método descrito en el documento, un método convencional que pasa el modelo anterior a un modelo determinista, simplemente dividiendo entre las dos cotas de los intervalos que se brindan y así se obtiene la solución. Así pues, los dos modelos deterministas que se obtienen son los siguientes:\n",
    "\n",
    "**Modelo optimista:**\n",
    "\n",
    "$$\\text{Min } f^{U}(x) = x^T Q x = \\sum_{i=1}^{n} \\sum_{j=1}^{n} \\overline{q}_{ij} x_i x_j$$\n",
    "$$\\text{Sujeto a: }$$\n",
    "$$\\sum_{i=1}^{n} \\underline{R}_i x_i - \\sum_{i=1}^{n} c_i x_i \\geq \\overline{R}_0$$\n",
    "$$\\sum_{i=1}^{n} \\underline{l}_i x_i \\geq \\overline{l}_0$$\n",
    "$$\\sum_{i=1}^{n} x_i = 1$$\n",
    "$$x_i \\geq 0, i = 1, 2, ..., n$$\n",
    "\n",
    "**Modelo pesimista:**\n",
    "\n",
    "$$\\text{Min } f^{L}(x) = x^T Q x = \\sum_{i=1}^{n} \\sum_{j=1}^{n} \\underline{q}_{ij} x_i x_j$$\n",
    "$$\\text{Sujeto a: }$$\n",
    "$$\\sum_{i=1}^{n} \\overline{R}_i x_i - \\sum_{i=1}^{n} c_i x_i \\geq \\underline{R}_0$$\n",
    "$$\\sum_{i=1}^{n} \\overline{l}_i x_i \\geq \\underline{l}_0$$\n",
    "$$\\sum_{i=1}^{n} x_i = 1$$\n",
    "$$x_i \\geq 0, i = 1, 2, ..., n$$\n",
    "\n",
    "Así pues, resolveremos ambos modelos para encontrar un rango de decisión de nuestra función objetivo general."
   ],
   "metadata": {
    "collapsed": false
   },
   "id": "e857c517b008d740"
  },
  {
   "cell_type": "markdown",
   "source": [
    "### Caso de estudio\n",
    "\n",
    "En el documento mencionado, se describe el siguiente caso de estudio como ejemplo 1:\n",
    "\n",
    "De acuerdo con \"Deng X, Zhao J. F. & Li R. J. An investment portfolio selection model based on the satisfaction index of interval inequality. Statistics and Decision, 2010 (22): 145–147.\", seleccionamos 3 tipos de valores desde Abril 2005 hasta Marzo de 2009 en Guangzhou Holdings, Shanghai Airport, Minmetals Development. Considerando el cierre de precio mensual y la tasa de rotación, calculamos los intervalos de tasa de retorno esperada, intervalos de riesgo de varianza y covarianza e intervalos de tasa de rotación de los tres activos.\n",
    "\n",
    "Los intervalos de tasa de retorno esperada son los siguientes:\n",
    "\n",
    "- $\\hat{R}_1 = [-0.02972, 0.02196]$\n",
    "- $\\hat{R}_2 = [-0.02259, 0.01803]$\n",
    "- $\\hat{R}_3 = [0.00282, 0.06566]$\n",
    "\n",
    "Los intervalos de riesgo de varianza y covarianza son los siguientes:\n",
    "\n",
    "- $\\hat{q}_{11} = [0.0204, 0.0289]$\n",
    "- $\\hat{q}_{12} = \\hat{q}_{21} = [0.0174, 0.0212]$\n",
    "- $\\hat{q}_{13} = \\hat{q}_{31} = [0.0213, 0.025]$\n",
    "- $\\hat{q}_{22} = [0.0179, 0.0269]$\n",
    "- $\\hat{q}_{23} = \\hat{q}_{32} = [0.0164, 0.0320]$\n",
    "- $\\hat{q}_{33} = [0.0417, 0.0590]$\n",
    "\n",
    "Los intervalos de tasa de rotación son los siguientes:\n",
    "\n",
    "- $\\hat{l}_1 = [0.2724, 0.4067]$\n",
    "- $\\hat{l}_2 = [0.2211, 0.2569]$\n",
    "- $\\hat{l}_3 = [0.7688, 1.2066]$\n",
    "\n",
    "Suponga que las tasas de costos de transacción de los tres activos son $c_1 = 0.00015$, $c_2 = 0.00025$, $c_3 = 0.0002$. El intervalo de retorno mínimo esperado de los tres activos fue establecida como $\\hat{R}_0 = [0.001, 0.0025]$, es decir, la tasa de rendimiento esperado por los inversores es $0.001$ en el caso pesimista y $0.0025$ en el caso optimista. El intervalo de tasa de rotación esperada de los tres activos fue establecido como $\\hat{l}_0 = [0.40, 0.60]$, es decir $0.40$ en el caso pesimista, y $0.60$ en el caso optimista."
   ],
   "metadata": {
    "collapsed": false
   },
   "id": "21043a5be7f78201"
  },
  {
   "cell_type": "markdown",
   "source": [
    "#### Solución del problema para el caso pesimista\n",
    "\n",
    "Nuestro modelo a resolver para el caso pesimista es el siguiente:\n",
    "\n",
    "$$\\text{Min } f^{L}(x) = x^T Q x = \\sum_{i=1}^{3} \\sum_{j=1}^{3} \\underline{q}_{ij} x_i x_j$$\n",
    "$$\\text{Sujeto a: }$$\n",
    "$$\\sum_{i=1}^{3} \\overline{R}_i x_i - \\sum_{i=1}^{3} c_i x_i \\geq \\underline{R}_0$$\n",
    "$$\\sum_{i=1}^{3} \\overline{l}_i x_i \\geq \\underline{l}_0$$\n",
    "$$\\sum_{i=1}^{3} x_i = 1$$\n",
    "$$x_i \\geq 0, i = 1, 2, 3$$\n",
    "\n",
    "Donde los valores dados son los siguientes:\n",
    "\n",
    "- $\\underline{q}_{11} = 0.0204$\n",
    "- $\\underline{q}_{12} = \\underline{q}_{21} = 0.0174$\n",
    "- $\\underline{q}_{13} = \\underline{q}_{31} = 0.0213$\n",
    "- $\\underline{q}_{22} = 0.0179$\n",
    "- $\\underline{q}_{23} = \\underline{q}_{32} = 0.0164$\n",
    "- $\\underline{q}_{33} = 0.0417$\n",
    "- $\\overline{R}_1 = 0.02196$\n",
    "- $\\overline{R}_2 = 0.01803$\n",
    "- $\\overline{R}_3 = 0.06566$\n",
    "- $c_1 = 0.00015$\n",
    "- $c_2 = 0.00025$\n",
    "- $c_3 = 0.0002$\n",
    "- $\\underline{R}_0 = 0.001$\n",
    "- $\\overline{l}_1 = 0.4067$\n",
    "- $\\overline{l}_2 = 0.2569$\n",
    "- $\\overline{l}_3 = 1.2066$\n",
    "- $\\underline{l}_0 = 0.40$\n",
    "- $n = 3$\n"
   ],
   "metadata": {
    "collapsed": false
   },
   "id": "bdc786f16835df79"
  },
  {
   "cell_type": "code",
   "execution_count": 221,
   "outputs": [],
   "source": [
    "# Importamos las librerías necesarias\n",
    "import numpy as np\n",
    "from qpsolvers import solve_qp\n",
    "\n",
    "# Definimos los valores de los parámetros\n",
    "Q_p = np.array([[0.0204, 0.0174, 0.0213],\n",
    "              [0.0174, 0.0179, 0.0164],\n",
    "              [0.0213, 0.0164, 0.0417]])\n",
    "\n",
    "# Definimos la matriz de las restricciones de desigualdad\n",
    "# Las primeras serán entonces (R_i - c_i)x_i >= R_0, las filas siguientes serán las restricciones de rotación de activos (l_i)x_i => l_0\n",
    "G_p = np.array([[-(0.02196 - 0.00015), -(0.01803 - 0.00025), -(0.06566 - 0.0002)],\n",
    "              [-0.4067, -0.2569, -1.2066]])\n",
    "\n",
    "# Definimos el vector solución de las restricciones de desigualdad\n",
    "h_p = np.array([-0.001, -0.40])\n",
    "\n",
    "# Definimos la matriz de las restricciones de igualdad\n",
    "# La restricción de igualdad será simplemente la suma de las fracciones de inversión en los activos\n",
    "A_p = np.array([[1.0, 1.0, 1.0]])\n",
    "\n",
    "# Definimos el vector solución de las restricciones de igualdad\n",
    "b_p = np.array([1.0])\n",
    "\n",
    "# Definimos el vector q que es la parte lineal (en nuestro caso no hay)\n",
    "q_p = np.zeros(3)\n",
    "\n",
    "# Definimos el límite inferior de las variables\n",
    "lb_p = np.zeros(3)"
   ],
   "metadata": {
    "collapsed": false,
    "ExecuteTime": {
     "end_time": "2024-09-23T22:46:57.588405200Z",
     "start_time": "2024-09-23T22:46:56.994857Z"
    }
   },
   "id": "dc1f26c161ab497c"
  },
  {
   "cell_type": "code",
   "execution_count": 222,
   "outputs": [
    {
     "name": "stdout",
     "output_type": "stream",
     "text": [
      "Autovalores de Q: [0.06608735 0.00139032 0.01252233]\n"
     ]
    }
   ],
   "source": [
    "# Verificación de la matriz Q\n",
    "eigenvalues_p = np.linalg.eigvals(Q_p)\n",
    "print(\"Autovalores de Q:\", eigenvalues_p)"
   ],
   "metadata": {
    "collapsed": false,
    "ExecuteTime": {
     "end_time": "2024-09-23T22:46:57.588405200Z",
     "start_time": "2024-09-23T22:46:56.995379Z"
    }
   },
   "id": "fe5978f0fc5e8126"
  },
  {
   "cell_type": "markdown",
   "source": [
    "La última verificación se hizo para asegurarnos de que la matriz Q sea semidefinida positiva, ya que es un requisito para que el problema de programación cuadrática sea resoluble. En este caso, los autovalores son todos positivos, por lo que podemos proceder a resolver el problema."
   ],
   "metadata": {
    "collapsed": false
   },
   "id": "6d1b57054312b297"
  },
  {
   "cell_type": "markdown",
   "source": [
    "##### Solución del problema por el método Interior Point de la librería qpsolvers, con el solver cvxopt"
   ],
   "metadata": {
    "collapsed": false
   },
   "id": "5699f30673ea5fc5"
  },
  {
   "cell_type": "code",
   "execution_count": 223,
   "outputs": [
    {
     "name": "stdout",
     "output_type": "stream",
     "text": [
      "     pcost       dcost       gap    pres   dres\n",
      " 0:  9.9187e-03 -1.2542e+00  1e+00  6e-17  4e+00\n",
      " 1:  9.9122e-03 -4.9916e-03  1e-02  1e-16  5e-02\n",
      " 2:  9.5824e-03  8.0552e-03  2e-03  7e-17  4e-03\n",
      " 3:  9.0979e-03  8.8846e-03  2e-04  6e-17  2e-18\n",
      " 4:  9.0313e-03  9.0180e-03  1e-05  2e-16  7e-18\n",
      " 5:  9.0269e-03  9.0255e-03  1e-06  1e-16  1e-17\n",
      " 6:  9.0267e-03  9.0266e-03  7e-08  1e-16  1e-16\n",
      "Optimal solution found.\n"
     ]
    }
   ],
   "source": [
    "# Resolvemos el problema\n",
    "x_pi = solve_qp(Q_p, q_p, G_p, h_p, A_p, b_p, lb_p, solver=\"cvxopt\", verbose=True)"
   ],
   "metadata": {
    "collapsed": false,
    "ExecuteTime": {
     "end_time": "2024-09-23T22:46:57.588405200Z",
     "start_time": "2024-09-23T22:46:57.001428700Z"
    }
   },
   "id": "865f2c11c029daa8"
  },
  {
   "cell_type": "code",
   "execution_count": 224,
   "outputs": [
    {
     "name": "stdout",
     "output_type": "stream",
     "text": [
      "Solución del problema de programación cuadrática para el caso pesimista:\n",
      "Fracción de inversión en el activo 1:  0.03593381634312439\n",
      "Fracción de inversión en el activo 2:  0.8190546406401066\n",
      "Fracción de inversión en el activo 3:  0.14501154301676908\n"
     ]
    }
   ],
   "source": [
    "# Mostramos los resultados\n",
    "print(\"Solución del problema de programación cuadrática para el caso pesimista:\")\n",
    "print(\"Fracción de inversión en el activo 1: \", x_pi[0])\n",
    "print(\"Fracción de inversión en el activo 2: \", x_pi[1])\n",
    "print(\"Fracción de inversión en el activo 3: \", x_pi[2])"
   ],
   "metadata": {
    "collapsed": false,
    "ExecuteTime": {
     "end_time": "2024-09-23T22:46:57.617918Z",
     "start_time": "2024-09-23T22:46:57.010774200Z"
    }
   },
   "id": "71698c304927c34"
  },
  {
   "cell_type": "code",
   "execution_count": 225,
   "outputs": [
    {
     "name": "stdout",
     "output_type": "stream",
     "text": [
      "Restricciones de desigualdad:\n",
      "Ri*xi - ci*xi >= R0:  True\n"
     ]
    }
   ],
   "source": [
    "# Verificación de las restricciones de desigualdad\n",
    "print(\"Restricciones de desigualdad:\")\n",
    "print(\"Ri*xi - ci*xi >= R0: \", (0.02196 - 0.00015)*x_pi[0] + (0.01803 - 0.00025)*x_pi[1] + (0.06566 - 0.0002)*x_pi[2] >= 0.001)"
   ],
   "metadata": {
    "collapsed": false,
    "ExecuteTime": {
     "end_time": "2024-09-23T22:46:57.617918Z",
     "start_time": "2024-09-23T22:46:57.016643400Z"
    }
   },
   "id": "40f83a8adb0d1276"
  },
  {
   "cell_type": "code",
   "execution_count": 226,
   "outputs": [
    {
     "name": "stdout",
     "output_type": "stream",
     "text": [
      "Restricciones de igualdad:\n",
      "Suma de las fracciones de inversión:  1.0\n"
     ]
    }
   ],
   "source": [
    "# Verificación de las restricciones de igualdad\n",
    "print(\"Restricciones de igualdad:\")\n",
    "print(\"Suma de las fracciones de inversión: \", np.sum(x_pi))\n"
   ],
   "metadata": {
    "collapsed": false,
    "ExecuteTime": {
     "end_time": "2024-09-23T22:46:57.617918Z",
     "start_time": "2024-09-23T22:46:57.023086700Z"
    }
   },
   "id": "efd6a9c2503de36"
  },
  {
   "cell_type": "code",
   "execution_count": 253,
   "outputs": [
    {
     "name": "stdout",
     "output_type": "stream",
     "text": [
      "Restricciones de rotación:\n",
      "li*xi >= l0:  True\n"
     ]
    }
   ],
   "source": [
    "# Verificación de las restricciones de rotación\n",
    "print(\"Restricciones de rotación:\")\n",
    "print(\"li*xi >= l0: \", 0.4067*x_pi[0] + 0.2569*x_pi[1] + 1.2066*x_pi[2] >= 0.40)"
   ],
   "metadata": {
    "collapsed": false,
    "ExecuteTime": {
     "end_time": "2024-09-23T22:56:06.200266100Z",
     "start_time": "2024-09-23T22:56:06.184337700Z"
    }
   },
   "id": "ea514b64dc228a3"
  },
  {
   "cell_type": "code",
   "execution_count": 228,
   "outputs": [
    {
     "name": "stdout",
     "output_type": "stream",
     "text": [
      "Valor de la función objetivo:  0.018053387443620693\n"
     ]
    }
   ],
   "source": [
    "# Valor de la función objetivo\n",
    "f_pi = x_pi.T @ Q_p @ x_pi\n",
    "print(\"Valor de la función objetivo: \", f_pi)\n"
   ],
   "metadata": {
    "collapsed": false,
    "ExecuteTime": {
     "end_time": "2024-09-23T22:46:57.617918Z",
     "start_time": "2024-09-23T22:46:57.037565100Z"
    }
   },
   "id": "f362d704c5f2f497"
  },
  {
   "cell_type": "markdown",
   "source": [
    "##### Solución del problema por el método Active Set de la librería qpsolvers con el solver daqp"
   ],
   "metadata": {
    "collapsed": false
   },
   "id": "a365487329b45e71"
  },
  {
   "cell_type": "code",
   "execution_count": 229,
   "outputs": [],
   "source": [
    "# Resolvemos el problema\n",
    "x_pa = solve_qp(Q_p, q_p, G_p, h_p, A_p, b_p, lb_p, solver=\"daqp\", verbose=True)"
   ],
   "metadata": {
    "collapsed": false,
    "ExecuteTime": {
     "end_time": "2024-09-23T22:46:57.617918Z",
     "start_time": "2024-09-23T22:46:57.046661100Z"
    }
   },
   "id": "6a6b27abf5cbbb9a"
  },
  {
   "cell_type": "code",
   "execution_count": 230,
   "outputs": [
    {
     "name": "stdout",
     "output_type": "stream",
     "text": [
      "Solución del problema de programación cuadrática para el caso pesimista:\n",
      "Fracción de inversión en el activo 1:  0.035194564031902624\n",
      "Fracción de inversión en el activo 2:  0.8196776542391081\n",
      "Fracción de inversión en el activo 3:  0.1451277817289892\n"
     ]
    }
   ],
   "source": [
    "# Mostramos los resultados\n",
    "print(\"Solución del problema de programación cuadrática para el caso pesimista:\")\n",
    "print(\"Fracción de inversión en el activo 1: \", x_pa[0])\n",
    "print(\"Fracción de inversión en el activo 2: \", x_pa[1])\n",
    "print(\"Fracción de inversión en el activo 3: \", x_pa[2])\n"
   ],
   "metadata": {
    "collapsed": false,
    "ExecuteTime": {
     "end_time": "2024-09-23T22:46:57.617918Z",
     "start_time": "2024-09-23T22:46:57.048528200Z"
    }
   },
   "id": "a5088c99fc9d3ee0"
  },
  {
   "cell_type": "code",
   "execution_count": 231,
   "outputs": [
    {
     "name": "stdout",
     "output_type": "stream",
     "text": [
      "Restricciones de desigualdad:\n",
      "Ri*xi - ci*xi >= R0:  True\n"
     ]
    }
   ],
   "source": [
    "# Verificación de las restricciones de desigualdad\n",
    "print(\"Restricciones de desigualdad:\")\n",
    "print(\"Ri*xi - ci*xi >= R0: \", (0.02196 - 0.00015)*x_pa[0] + (0.01803 - 0.00025)*x_pa[1] + (0.06566 - 0.0002)*x_pa[2] >= 0.001)"
   ],
   "metadata": {
    "collapsed": false,
    "ExecuteTime": {
     "end_time": "2024-09-23T22:46:57.617918Z",
     "start_time": "2024-09-23T22:46:57.054892700Z"
    }
   },
   "id": "d161b147eeb95f88"
  },
  {
   "cell_type": "code",
   "execution_count": 255,
   "outputs": [
    {
     "name": "stdout",
     "output_type": "stream",
     "text": [
      "Restricciones de igualdad:\n",
      "Suma de las fracciones de inversión:  0.9999999999999999\n"
     ]
    }
   ],
   "source": [
    "# Verificación de las restricciones de igualdad\n",
    "print(\"Restricciones de igualdad:\")\n",
    "print(\"Suma de las fracciones de inversión: \", np.sum(x_pa))"
   ],
   "metadata": {
    "collapsed": false,
    "ExecuteTime": {
     "end_time": "2024-09-23T22:56:26.048773200Z",
     "start_time": "2024-09-23T22:56:26.043117400Z"
    }
   },
   "id": "7ccaaeba21de4d76"
  },
  {
   "cell_type": "code",
   "execution_count": 254,
   "outputs": [
    {
     "name": "stdout",
     "output_type": "stream",
     "text": [
      "Restricciones de rotación:\n",
      "li*xi >= l0:  True\n"
     ]
    }
   ],
   "source": [
    "# Verificación de las restricciones de rotación\n",
    "print(\"Restricciones de rotación:\")\n",
    "print(\"li*xi >= l0: \", 0.4067*x_pa[0] + 0.2569*x_pa[1] + 1.2066*x_pa[2] >= 0.40)"
   ],
   "metadata": {
    "collapsed": false,
    "ExecuteTime": {
     "end_time": "2024-09-23T22:56:21.152795800Z",
     "start_time": "2024-09-23T22:56:21.137066500Z"
    }
   },
   "id": "13111729d55cd75b"
  },
  {
   "cell_type": "code",
   "execution_count": 234,
   "outputs": [
    {
     "name": "stdout",
     "output_type": "stream",
     "text": [
      "Valor de la función objetivo:  0.018053384205928863\n"
     ]
    }
   ],
   "source": [
    "# Valor de la función objetivo\n",
    "f_pa = x_pa.T @ Q_p @ x_pa\n",
    "print(\"Valor de la función objetivo: \", f_pa)"
   ],
   "metadata": {
    "collapsed": false,
    "ExecuteTime": {
     "end_time": "2024-09-23T22:46:57.617918Z",
     "start_time": "2024-09-23T22:46:57.070961200Z"
    }
   },
   "id": "d9e3d942bd8e0ea"
  },
  {
   "cell_type": "markdown",
   "source": [
    "#### Solución del problema para el caso optimista\n",
    "\n",
    "Nuestro modelo a resolver para el caso optimista es el siguiente:\n",
    "\n",
    "$$\\text{Min } f^{U}(x) = x^T Q x = \\sum_{i=1}^{3} \\sum_{j=1}^{3} \\overline{q}_{ij} x_i x_j$$\n",
    "$$\\text{Sujeto a: }$$\n",
    "$$\\sum_{i=1}^{3} \\underline{R}_i x_i - \\sum_{i=1}^{3} c_i x_i \\geq \\overline{R}_0$$\n",
    "$$\\sum_{i=1}^{3} \\underline{l}_i x_i \\geq \\overline{l}_0$$\n",
    "$$\\sum_{i=1}^{3} x_i = 1$$\n",
    "$$x_i \\geq 0, i = 1, 2, 3$$\n",
    "\n",
    "Donde los valores dados son los siguientes:\n",
    "\n",
    "- $\\overline{q}_{11} = 0.0289$\n",
    "- $\\overline{q}_{12} = \\overline{q}_{21} = 0.0212$\n",
    "- $\\overline{q}_{13} = \\overline{q}_{31} = 0.025$\n",
    "- $\\overline{q}_{22} = 0.0269$\n",
    "- $\\overline{q}_{23} = \\overline{q}_{32} = 0.0320$\n",
    "- $\\overline{q}_{33} = 0.0590$\n",
    "- $\\underline{R}_1 = -0.02972$\n",
    "- $\\underline{R}_2 = -0.02259$\n",
    "- $\\underline{R}_3 = 0.00282$\n",
    "- $c_1 = 0.00015$\n",
    "- $c_2 = 0.00025$\n",
    "- $c_3 = 0.0002$\n",
    "- $\\overline{R}_0 = 0.0025$\n",
    "- $\\underline{l}_1 = 0.2724$\n",
    "- $\\underline{l}_2 = 0.2211$\n",
    "- $\\underline{l}_3 = 0.7688$\n",
    "- $\\overline{l}_0 = 0.60$\n",
    "- $n = 3$"
   ],
   "metadata": {
    "collapsed": false
   },
   "id": "b22115a18d9c8b7c"
  },
  {
   "cell_type": "code",
   "execution_count": 235,
   "outputs": [],
   "source": [
    "# Importamos las librerías necesarias\n",
    "import numpy as np\n",
    "from qpsolvers import solve_qp\n",
    "\n",
    "# Definimos los valores de los parámetros\n",
    "Q_o = np.array([[0.0289, 0.0212, 0.025],\n",
    "              [0.0212, 0.0269, 0.0320],\n",
    "              [0.025, 0.0320, 0.0590]])\n",
    "\n",
    "# Definimos la matriz de las restricciones de desigualdad\n",
    "# Las primeras serán entonces (R_i - c_i)x_i >= R_0, las filas siguientes serán las restricciones de rotación de activos (l_i)x_i >= l_0\n",
    "G_o = np.array([[-(-0.02972 - 0.00015), -(-0.02259 - 0.00025), -(0.00282 - 0.0002)],\n",
    "                [-0.2724, -0.2211, -0.7688]])\n",
    "\n",
    "# Definimos el vector solución de las restricciones de desigualdad\n",
    "h_o = np.array([-0.0025, -0.60])\n",
    "\n",
    "# Definimos la matriz de las restricciones de igualdad\n",
    "# La restricción de igualdad será simplemente la suma de las fracciones de inversión en los activos\n",
    "A_o = np.array([[1.0, 1.0, 1.0]])\n",
    "\n",
    "# Definimos el vector solución de las restricciones de igualdad\n",
    "b_o = np.array([1.0])\n",
    "\n",
    "# Definimos el vector q que es la parte lineal (en nuestro caso no hay)\n",
    "q_o = np.zeros(3)\n",
    "\n",
    "# Definimos el límite inferior de las variables\n",
    "lb_o = np.zeros(3)"
   ],
   "metadata": {
    "collapsed": false,
    "ExecuteTime": {
     "end_time": "2024-09-23T22:46:57.617918Z",
     "start_time": "2024-09-23T22:46:57.078569500Z"
    }
   },
   "id": "b171d1023c1d3a52"
  },
  {
   "cell_type": "code",
   "execution_count": 236,
   "outputs": [
    {
     "name": "stdout",
     "output_type": "stream",
     "text": [
      "Autovalores de Q: [0.09476341 0.01530335 0.00473324]\n"
     ]
    }
   ],
   "source": [
    "# Verificación de la matriz Q\n",
    "eigenvalues_o = np.linalg.eigvals(Q_o)\n",
    "print(\"Autovalores de Q:\", eigenvalues_o)"
   ],
   "metadata": {
    "collapsed": false,
    "ExecuteTime": {
     "end_time": "2024-09-23T22:46:57.617918Z",
     "start_time": "2024-09-23T22:46:57.093359400Z"
    }
   },
   "id": "ec00af4489e58e00"
  },
  {
   "cell_type": "markdown",
   "source": [
    "Nuevamente, la última verificación se hizo para asegurarnos de que la matriz Q sea semidefinida positiva, ya que es un requisito para que el problema de programación cuadrática sea resoluble. En este caso, los autovalores son todos positivos, por lo que podemos proceder a resolver el problema."
   ],
   "metadata": {
    "collapsed": false
   },
   "id": "23d1efa95c1cbef4"
  },
  {
   "cell_type": "markdown",
   "source": [
    "##### Solución del problema por el método Interior Point de la librería qpsolvers, con el solver cvxopt"
   ],
   "metadata": {
    "collapsed": false
   },
   "id": "92581d6a15756dd2"
  },
  {
   "cell_type": "code",
   "execution_count": 237,
   "outputs": [
    {
     "name": "stdout",
     "output_type": "stream",
     "text": [
      "     pcost       dcost       gap    pres   dres\n",
      " 0:  1.5662e-02 -7.6294e-01  8e+00  3e+00  3e+00\n",
      " 1:  2.2480e-02 -4.7785e-01  6e-01  4e-02  6e-02\n",
      " 2:  2.2923e-02 -1.6725e-01  2e-01  2e-02  2e-02\n",
      " 3:  2.8876e-02 -6.7229e-02  2e-01  1e-02  1e-02\n",
      " 4:  2.9436e-02  2.5089e-02  7e-03  3e-04  4e-04\n",
      " 5:  2.9464e-02  2.8646e-02  8e-04  9e-07  1e-06\n",
      " 6:  2.9456e-02  2.9363e-02  9e-05  1e-07  1e-07\n",
      " 7:  2.9374e-02  2.9335e-02  4e-05  2e-08  3e-08\n",
      " 8:  2.9374e-02  2.9372e-02  1e-06  7e-10  9e-10\n",
      " 9:  2.9373e-02  2.9373e-02  6e-08  8e-12  1e-11\n",
      "Optimal solution found.\n"
     ]
    }
   ],
   "source": [
    "# Resolvemos el problema\n",
    "x_oi = solve_qp(Q_o, q_o, G_o, h_o, A_o, b_o, lb_o, solver=\"cvxopt\", verbose=True)"
   ],
   "metadata": {
    "collapsed": false,
    "ExecuteTime": {
     "end_time": "2024-09-23T22:46:57.617918Z",
     "start_time": "2024-09-23T22:46:57.093359400Z"
    }
   },
   "id": "21fe01443aced13d"
  },
  {
   "cell_type": "code",
   "execution_count": 238,
   "outputs": [
    {
     "name": "stdout",
     "output_type": "stream",
     "text": [
      "Solución del problema de programación cuadrática para el caso optimista:\n",
      "Fracción de inversión en el activo 1:  1.371859633388854e-05\n",
      "Fracción de inversión en el activo 2:  0.00469547229183114\n",
      "Fracción de inversión en el activo 3:  0.995290809111835\n"
     ]
    }
   ],
   "source": [
    "# Mostramos los resultados\n",
    "print(\"Solución del problema de programación cuadrática para el caso optimista:\")\n",
    "print(\"Fracción de inversión en el activo 1: \", x_oi[0])\n",
    "print(\"Fracción de inversión en el activo 2: \", x_oi[1])\n",
    "print(\"Fracción de inversión en el activo 3: \", x_oi[2])"
   ],
   "metadata": {
    "collapsed": false,
    "ExecuteTime": {
     "end_time": "2024-09-23T22:46:57.617918Z",
     "start_time": "2024-09-23T22:46:57.099799Z"
    }
   },
   "id": "5411c02bab2940bd"
  },
  {
   "cell_type": "code",
   "execution_count": 239,
   "outputs": [
    {
     "name": "stdout",
     "output_type": "stream",
     "text": [
      "Restricciones de desigualdad:\n",
      "Ri*xi - ci*xi >= R0:  True\n"
     ]
    }
   ],
   "source": [
    "# Verificación de las restricciones de desigualdad\n",
    "print(\"Restricciones de desigualdad:\")\n",
    "print(\"Ri*xi - ci*xi >= R0: \", (-0.02972 - 0.00015)*x_oi[0] + (-0.02259 - 0.00025)*x_oi[1] + (0.00282 - 0.0002)*x_oi[2] >= 0.0025)"
   ],
   "metadata": {
    "collapsed": false,
    "ExecuteTime": {
     "end_time": "2024-09-23T22:46:57.617918Z",
     "start_time": "2024-09-23T22:46:57.110849600Z"
    }
   },
   "id": "bf37297249736fab"
  },
  {
   "cell_type": "code",
   "execution_count": 240,
   "outputs": [
    {
     "name": "stdout",
     "output_type": "stream",
     "text": [
      "Restricciones de igualdad:\n",
      "Suma de las fracciones de inversión:  1.0\n"
     ]
    }
   ],
   "source": [
    "# Verificación de las restricciones de igualdad\n",
    "print(\"Restricciones de igualdad:\")\n",
    "print(\"Suma de las fracciones de inversión: \", np.sum(x_oi))"
   ],
   "metadata": {
    "collapsed": false,
    "ExecuteTime": {
     "end_time": "2024-09-23T22:46:57.617918Z",
     "start_time": "2024-09-23T22:46:57.111362900Z"
    }
   },
   "id": "c9f1e1a18cac0b16"
  },
  {
   "cell_type": "code",
   "execution_count": 241,
   "outputs": [
    {
     "name": "stdout",
     "output_type": "stream",
     "text": [
      "Restricciones de rotación:\n",
      "li*xi >= l0:  True\n"
     ]
    }
   ],
   "source": [
    "# Verificación de las restricciones de rotación\n",
    "print(\"Restricciones de rotación:\")\n",
    "print(\"li*xi >= l0: \", 0.2724*x_oi[0] + 0.2211*x_oi[1] + 0.7688*x_oi[2] >= 0.60)"
   ],
   "metadata": {
    "collapsed": false,
    "ExecuteTime": {
     "end_time": "2024-09-23T22:46:57.617918Z",
     "start_time": "2024-09-23T22:46:57.116591Z"
    }
   },
   "id": "3cc601afce051914"
  },
  {
   "cell_type": "code",
   "execution_count": 242,
   "outputs": [
    {
     "name": "stdout",
     "output_type": "stream",
     "text": [
      "Valor de la función objetivo:  0.05874599746706755\n"
     ]
    }
   ],
   "source": [
    "# Valor de la función objetivo\n",
    "f_oi = x_oi.T @ Q_o @ x_oi\n",
    "print(\"Valor de la función objetivo: \", f_oi)"
   ],
   "metadata": {
    "collapsed": false,
    "ExecuteTime": {
     "end_time": "2024-09-23T22:46:57.617918Z",
     "start_time": "2024-09-23T22:46:57.124832900Z"
    }
   },
   "id": "2aad90c0901c4e74"
  },
  {
   "cell_type": "markdown",
   "source": [
    "##### Solución del problema por el método Active Set de la librería qpsolvers con el solver daqp"
   ],
   "metadata": {
    "collapsed": false
   },
   "id": "a3eb1d0e16e0a4b0"
  },
  {
   "cell_type": "code",
   "execution_count": 243,
   "outputs": [],
   "source": [
    "# Resolvemos el problema\n",
    "x_oa = solve_qp(Q_o, q_o, G_o, h_o, A_o, b_o, lb_o, solver=\"daqp\", verbose=True)"
   ],
   "metadata": {
    "collapsed": false,
    "ExecuteTime": {
     "end_time": "2024-09-23T22:46:57.617918Z",
     "start_time": "2024-09-23T22:46:57.128101300Z"
    }
   },
   "id": "b488c3b5edf13728"
  },
  {
   "cell_type": "code",
   "execution_count": 244,
   "outputs": [
    {
     "name": "stdout",
     "output_type": "stream",
     "text": [
      "Solución del problema de programación cuadrática para el caso optimista:\n",
      "Fracción de inversión en el activo 1:  3.535190224033393e-17\n",
      "Fracción de inversión en el activo 2:  0.004713275726629762\n",
      "Fracción de inversión en el activo 3:  0.9952867242733703\n"
     ]
    }
   ],
   "source": [
    "# Mostramos los resultados\n",
    "print(\"Solución del problema de programación cuadrática para el caso optimista:\")\n",
    "print(\"Fracción de inversión en el activo 1: \", x_oa[0])\n",
    "print(\"Fracción de inversión en el activo 2: \", x_oa[1])\n",
    "print(\"Fracción de inversión en el activo 3: \", x_oa[2])"
   ],
   "metadata": {
    "collapsed": false,
    "ExecuteTime": {
     "end_time": "2024-09-23T22:46:57.617918Z",
     "start_time": "2024-09-23T22:46:57.140533500Z"
    }
   },
   "id": "a3ad27bec4168f2c"
  },
  {
   "cell_type": "code",
   "execution_count": 245,
   "outputs": [
    {
     "name": "stdout",
     "output_type": "stream",
     "text": [
      "Restricciones de desigualdad:\n",
      "Ri*xi - ci*xi >= R0:  True\n"
     ]
    }
   ],
   "source": [
    "# Verificación de las restricciones de desigualdad\n",
    "print(\"Restricciones de desigualdad:\")\n",
    "print(\"Ri*xi - ci*xi >= R0: \", (-0.02972 - 0.00015)*x_oa[0] + (-0.02259 - 0.00025)*x_oa[1] + (0.00282 - 0.0002)*x_oa[2] >= 0.0025)"
   ],
   "metadata": {
    "collapsed": false,
    "ExecuteTime": {
     "end_time": "2024-09-23T22:46:57.617918Z",
     "start_time": "2024-09-23T22:46:57.141915900Z"
    }
   },
   "id": "4605c6bba6a1aa69"
  },
  {
   "cell_type": "code",
   "execution_count": 246,
   "outputs": [
    {
     "name": "stdout",
     "output_type": "stream",
     "text": [
      "Restricciones de igualdad:\n",
      "Suma de las fracciones de inversión:  1.0\n"
     ]
    }
   ],
   "source": [
    "# Verificación de las restricciones de igualdad\n",
    "print(\"Restricciones de igualdad:\")\n",
    "print(\"Suma de las fracciones de inversión: \", np.sum(x_oa))"
   ],
   "metadata": {
    "collapsed": false,
    "ExecuteTime": {
     "end_time": "2024-09-23T22:46:57.617918Z",
     "start_time": "2024-09-23T22:46:57.147395800Z"
    }
   },
   "id": "39b5cdd65beb5647"
  },
  {
   "cell_type": "code",
   "execution_count": 247,
   "outputs": [
    {
     "name": "stdout",
     "output_type": "stream",
     "text": [
      "Restricciones de rotación:\n",
      "li*xi >= l0:  True\n"
     ]
    }
   ],
   "source": [
    "# Verificación de las restricciones de rotación\n",
    "print(\"Restricciones de rotación:\")\n",
    "print(\"li*xi >= l0: \", 0.2724*x_oa[0] + 0.2211*x_oa[1] + 0.7688*x_oa[2] >= 0.60)"
   ],
   "metadata": {
    "collapsed": false,
    "ExecuteTime": {
     "end_time": "2024-09-23T22:46:57.617918Z",
     "start_time": "2024-09-23T22:46:57.156436800Z"
    }
   },
   "id": "776837f83e1b5d79"
  },
  {
   "cell_type": "code",
   "execution_count": 248,
   "outputs": [
    {
     "name": "stdout",
     "output_type": "stream",
     "text": [
      "Valor de la función objetivo:  0.05874596961856284\n"
     ]
    }
   ],
   "source": [
    "# Valor de la función objetivo\n",
    "f_oa = x_oa.T @ Q_o @ x_oa\n",
    "print(\"Valor de la función objetivo: \", f_oa)"
   ],
   "metadata": {
    "collapsed": false,
    "ExecuteTime": {
     "end_time": "2024-09-23T22:46:57.617918Z",
     "start_time": "2024-09-23T22:46:57.158385700Z"
    }
   },
   "id": "577e9c18bbc6774c"
  },
  {
   "cell_type": "markdown",
   "source": [
    "\n",
    "#### Análisis de los resultados\n",
    "\n",
    "Lo primero que haremos es condensar la solución obtenida. La construcción de la solución está basada en juntar los dos intervalos solución obtenidos para cada uno de los modelos, de esta manera se obtiene un intervalo solución para la función objetivo, en nuestro caso, obtenemos el intervalo para nuestro portafolio de inversión.\n",
    "\n",
    "Según nuestras soluciones, tenemos que el intervalo solución obtenido por cada uno de los métodos para el portafolio de inversión con costes de transacción y tasas de rotación, es el siguiente:"
   ],
   "metadata": {
    "collapsed": false
   },
   "id": "279a50df872e8b9e"
  },
  {
   "cell_type": "markdown",
   "source": [
    "##### Intervalo obtenido por el método Interior Point (cvxopt)"
   ],
   "metadata": {
    "collapsed": false
   },
   "id": "b27577566589df8"
  },
  {
   "cell_type": "code",
   "execution_count": 249,
   "outputs": [
    {
     "name": "stdout",
     "output_type": "stream",
     "text": [
      "Intervalo obtenido por el método Interior Point (cvxopt):\n",
      "[ 0.018053387443620693, 0.05874599746706755 ]\n"
     ]
    }
   ],
   "source": [
    "print(\"Intervalo obtenido por el método Interior Point (cvxopt):\")\n",
    "print(f\"[ {f_pi}, {f_oi} ]\")"
   ],
   "metadata": {
    "collapsed": false,
    "ExecuteTime": {
     "end_time": "2024-09-23T22:46:57.617918Z",
     "start_time": "2024-09-23T22:46:57.163441400Z"
    }
   },
   "id": "f2d2d5ef5fb4b106"
  },
  {
   "cell_type": "markdown",
   "source": [
    "##### Intervalo obtenido por el método Active Set (daqp)"
   ],
   "metadata": {
    "collapsed": false
   },
   "id": "e21db34aeb78a3af"
  },
  {
   "cell_type": "code",
   "execution_count": 250,
   "outputs": [
    {
     "name": "stdout",
     "output_type": "stream",
     "text": [
      "Intervalo obtenido por el método Active Set (daqp):\n",
      "[ 0.018053384205928863, 0.05874596961856284 ]\n"
     ]
    }
   ],
   "source": [
    "print(\"Intervalo obtenido por el método Active Set (daqp):\")\n",
    "print(f\"[ {f_pa}, {f_oa} ]\")"
   ],
   "metadata": {
    "collapsed": false,
    "ExecuteTime": {
     "end_time": "2024-09-23T22:46:57.617918Z",
     "start_time": "2024-09-23T22:46:57.172300200Z"
    }
   },
   "id": "a2431e654d666f8b"
  },
  {
   "cell_type": "markdown",
   "source": [
    "Nuestro primer análisis está basado en la correctitud de las respuestas obtenidas, como podemos ver, cada uno de los métodos nos da resultados, que al compararlos directamente con los obtenidos en nuestro documento guía, resultan ser muy cercano y variantes respecto a pequeños decimales de aproximación. Así, en primer medida sabemos que los resultados obtenidos son correctos y que el método de resolución de problemas de programación cuadrática es adecuado para nuestro caso. Ahora bien, podemos ver que los intervalos obtenidos por los dos métodos implementados son muy buenos, pues son iguales si los aproximamos a 4 decimales, lo cual nos indica que ambos métodos son correctos y que la solución es óptima en ambos casos.\n",
    "\n",
    "Ahora bien, realicemos una comparación en términos de los resultados obtenidos por los métodos para cada uno de los modelos (optimista y pesimista).\n",
    "\n",
    "##### Caso pesimista"
   ],
   "metadata": {
    "collapsed": false
   },
   "id": "6665374c4db03089"
  },
  {
   "cell_type": "code",
   "execution_count": 256,
   "outputs": [
    {
     "name": "stdout",
     "output_type": "stream",
     "text": [
      "Resultados obtenidos por el método Interior Point:\n",
      "Fracción de inversión en el activo 1:  0.03593381634312439\n",
      "Fracción de inversión en el activo 2:  0.8190546406401066\n",
      "Fracción de inversión en el activo 3:  0.14501154301676908\n",
      "Valor de la función objetivo:  0.018053387443620693\n",
      "\n",
      "Resultados obtenidos por el método Active Set:\n",
      "Fracción de inversión en el activo 1:  0.035194564031902624\n",
      "Fracción de inversión en el activo 2:  0.8196776542391081\n",
      "Fracción de inversión en el activo 3:  0.1451277817289892\n",
      "Valor de la función objetivo:  0.018053384205928863\n"
     ]
    }
   ],
   "source": [
    "# Resultados obtenidos por el método Interior Point\n",
    "print(\"Resultados obtenidos por el método Interior Point:\")\n",
    "print(\"Fracción de inversión en el activo 1: \", x_pi[0])\n",
    "print(\"Fracción de inversión en el activo 2: \", x_pi[1])\n",
    "print(\"Fracción de inversión en el activo 3: \", x_pi[2])\n",
    "print(\"Valor de la función objetivo: \", f_pi)\n",
    "print()\n",
    "\n",
    "# Resultados obtenidos por el método Active Set\n",
    "print(\"Resultados obtenidos por el método Active Set:\")\n",
    "print(\"Fracción de inversión en el activo 1: \", x_pa[0])\n",
    "print(\"Fracción de inversión en el activo 2: \", x_pa[1])\n",
    "print(\"Fracción de inversión en el activo 3: \", x_pa[2])\n",
    "print(\"Valor de la función objetivo: \", f_pa)"
   ],
   "metadata": {
    "collapsed": false,
    "ExecuteTime": {
     "end_time": "2024-09-23T22:57:41.210823100Z",
     "start_time": "2024-09-23T22:57:41.194161900Z"
    }
   },
   "id": "df96d850c171b3b0"
  },
  {
   "cell_type": "markdown",
   "source": [
    "Como podemos evidenciar, las fracciones que obtienen cada uno de los dos métodos aplicados son bastante parecidas, en especial en cuanto a la fracción del activo 3, y podemos notar que los activos 1 y 2 al parecer ser reparten los decimales \"restantes\". Además, podemos deducir que el valor de la función objetivo obtenida por cada uno de estos métodos es muy parecido, lo que nos indica que debe ser la aproximación la que nos hace variar un poco los resultados, pero en términos de tolerancia de los métodos (por ejemplo al hacer la suma de las fracciones de los activos, computacionalmente se tomó 0.9999999999999999 como 1, lo cual a lo mejor llegó a ser la causa de esta mínima diferencia).\n",
    "\n",
    "##### Caso optimista"
   ],
   "metadata": {
    "collapsed": false
   },
   "id": "654b4c1027c0f849"
  },
  {
   "cell_type": "code",
   "execution_count": 257,
   "outputs": [
    {
     "name": "stdout",
     "output_type": "stream",
     "text": [
      "Resultados obtenidos por el método Interior Point:\n",
      "Fracción de inversión en el activo 1:  1.371859633388854e-05\n",
      "Fracción de inversión en el activo 2:  0.00469547229183114\n",
      "Fracción de inversión en el activo 3:  0.995290809111835\n",
      "Valor de la función objetivo:  0.05874599746706755\n",
      "\n",
      "Resultados obtenidos por el método Active Set:\n",
      "Fracción de inversión en el activo 1:  3.535190224033393e-17\n",
      "Fracción de inversión en el activo 2:  0.004713275726629762\n",
      "Fracción de inversión en el activo 3:  0.9952867242733703\n",
      "Valor de la función objetivo:  0.05874596961856284\n"
     ]
    }
   ],
   "source": [
    "# Resultados obtenidos por el método Interior Point\n",
    "print(\"Resultados obtenidos por el método Interior Point:\")\n",
    "print(\"Fracción de inversión en el activo 1: \", x_oi[0])\n",
    "print(\"Fracción de inversión en el activo 2: \", x_oi[1])\n",
    "print(\"Fracción de inversión en el activo 3: \", x_oi[2])\n",
    "print(\"Valor de la función objetivo: \", f_oi)\n",
    "print()\n",
    "\n",
    "# Resultados obtenidos por el método Active Set\n",
    "print(\"Resultados obtenidos por el método Active Set:\")\n",
    "print(\"Fracción de inversión en el activo 1: \", x_oa[0])\n",
    "print(\"Fracción de inversión en el activo 2: \", x_oa[1])\n",
    "print(\"Fracción de inversión en el activo 3: \", x_oa[2])\n",
    "print(\"Valor de la función objetivo: \", f_oa)"
   ],
   "metadata": {
    "collapsed": false,
    "ExecuteTime": {
     "end_time": "2024-09-23T22:58:01.724721400Z",
     "start_time": "2024-09-23T22:58:01.708011200Z"
    }
   },
   "id": "56449ca8852a47e5"
  },
  {
   "cell_type": "markdown",
   "source": [
    "Para este caso, podemos ver mucho más claro como los resultados pueden llegar a ser mucho más parecidos, en especial en cuanto a los activos 2 y 3, los mini decimales en los que varían son compensados con el activo 1 (en este caso, a diferencia del anterior, la suma de las fracciones de los activos suma 1 en ambos casos). Ahora bien, este resultado se repite para nuestra función objetivo, ambos valores son casi iguales, difiriendo en muy pocos decimales, lo cual nos indica que ambos métodos son correctos y que la solución es óptima en ambos casos.\n",
    "\n",
    "Finalmente, en un análisis en especial del método Interior Point, dado que el solver cvxopt nos brinda la posibilidad de ver las iteraciones, podemos ver como en ambos casos el tiempo que se demora el método en resolver el problema es bastante poco, siendo para el primer caso 6 iteraciones y para el segundo caso 9 iteraciones, esto puede sugerir que es bastante rápido el método para solucionar el modelo, sin importar el punto de origen del mismo. Este análisis no se puede realizar en específico para el método de conjunto activo, pues el solver no nos brinda estas capacidades, sin embargo, el tiempo computacional de ejecución es muy poco y bastante parecido, en ocasiones hasta más rápido que el otro método. Sin embargo, este es un análisis para nuestro caso y dados nuestros valores, no se puede generalizar para todos los problemas de programación cuadrática, pues esto es sensitivo a las matrices brindadas y a la cantidad de datos y variables obtenidas en el problema."
   ],
   "metadata": {
    "collapsed": false
   },
   "id": "de0ecb8bd40f0a0b"
  }
 ],
 "metadata": {
  "kernelspec": {
   "display_name": "Python 3",
   "language": "python",
   "name": "python3"
  },
  "language_info": {
   "codemirror_mode": {
    "name": "ipython",
    "version": 2
   },
   "file_extension": ".py",
   "mimetype": "text/x-python",
   "name": "python",
   "nbconvert_exporter": "python",
   "pygments_lexer": "ipython2",
   "version": "2.7.6"
  }
 },
 "nbformat": 4,
 "nbformat_minor": 5
}
