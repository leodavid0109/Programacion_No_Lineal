{
 "cells": [
  {
   "cell_type": "markdown",
   "source": [
    "Tomado del texto guía"
   ],
   "metadata": {
    "collapsed": false
   },
   "id": "8cc532961198c2c5"
  },
  {
   "cell_type": "code",
   "execution_count": 2,
   "id": "initial_id",
   "metadata": {
    "collapsed": true,
    "ExecuteTime": {
     "end_time": "2024-02-14T00:49:21.212743400Z",
     "start_time": "2024-02-14T00:49:21.202408800Z"
    }
   },
   "outputs": [],
   "source": [
    "import autograd.numpy as np\n",
    "from autograd import grad, jacobian"
   ]
  },
  {
   "cell_type": "code",
   "execution_count": 3,
   "outputs": [
    {
     "name": "stdout",
     "output_type": "stream",
     "text": [
      "gradient vector: [43. 60. 39.]\n"
     ]
    }
   ],
   "source": [
    "p = np.array([1, 2, 3], dtype=float)\n",
    "def f(x): # Objective function\n",
    "    return 2*x[0]*x[1]**3+3*x[1]**2*x[2]+x[2]**3*x[0]\n",
    "grad_f = grad(f) # gradient of the objective function\n",
    "hessian_f = jacobian(grad_f) # Hessian of the objective function\n",
    "\n",
    "print(\"gradient vector:\",grad_f(p))"
   ],
   "metadata": {
    "collapsed": false,
    "ExecuteTime": {
     "end_time": "2024-02-14T00:49:21.907427200Z",
     "start_time": "2024-02-14T00:49:21.881068400Z"
    }
   },
   "id": "25e90c7e16d033d4"
  },
  {
   "cell_type": "code",
   "execution_count": 4,
   "outputs": [
    {
     "name": "stdout",
     "output_type": "stream",
     "text": [
      "Hessian matrix:\n",
      " [[ 0. 24. 27.]\n",
      " [24. 42. 12.]\n",
      " [27. 12. 18.]]\n"
     ]
    }
   ],
   "source": [
    "print(\"Hessian matrix:\\n\",hessian_f(p))"
   ],
   "metadata": {
    "collapsed": false,
    "ExecuteTime": {
     "end_time": "2024-02-14T00:49:36.570433100Z",
     "start_time": "2024-02-14T00:49:36.544957800Z"
    }
   },
   "id": "924a1d6146963c37"
  },
  {
   "cell_type": "code",
   "execution_count": null,
   "outputs": [],
   "source": [],
   "metadata": {
    "collapsed": false
   },
   "id": "882b04d3ee828c91"
  }
 ],
 "metadata": {
  "kernelspec": {
   "display_name": "Python 3",
   "language": "python",
   "name": "python3"
  },
  "language_info": {
   "codemirror_mode": {
    "name": "ipython",
    "version": 2
   },
   "file_extension": ".py",
   "mimetype": "text/x-python",
   "name": "python",
   "nbconvert_exporter": "python",
   "pygments_lexer": "ipython2",
   "version": "2.7.6"
  }
 },
 "nbformat": 4,
 "nbformat_minor": 5
}
