{
 "cells": [
  {
   "cell_type": "code",
   "execution_count": 1,
   "outputs": [],
   "source": [
    "import autograd.numpy as np\n",
    "from autograd import grad, jacobian"
   ],
   "metadata": {
    "collapsed": false,
    "ExecuteTime": {
     "end_time": "2024-02-14T00:51:06.363283500Z",
     "start_time": "2024-02-14T00:51:06.205286800Z"
    }
   },
   "id": "d792a66549dfaf53"
  },
  {
   "cell_type": "code",
   "execution_count": 2,
   "id": "initial_id",
   "metadata": {
    "collapsed": true,
    "ExecuteTime": {
     "end_time": "2024-02-14T00:51:06.385037400Z",
     "start_time": "2024-02-14T00:51:06.369474200Z"
    }
   },
   "outputs": [
    {
     "name": "stdout",
     "output_type": "stream",
     "text": [
      "directional derivative: 70.65489569530399\n"
     ]
    }
   ],
   "source": [
    "p = np.array([1, 2, 3], dtype=float)\n",
    "delta = np.array([1, 3, 5], dtype=float)/np.sqrt(35)\n",
    "def f(x):\n",
    "    return 2*x[0]*x[1]**3+3*x[1]**2*x[2]+x[2]**3*x[0]\n",
    "grad_f = grad(f)\n",
    "\n",
    "print(\"directional derivative:\", grad_f(p).dot(delta))"
   ]
  },
  {
   "cell_type": "code",
   "execution_count": null,
   "outputs": [],
   "source": [],
   "metadata": {
    "collapsed": false
   },
   "id": "780233c186f07125"
  }
 ],
 "metadata": {
  "kernelspec": {
   "display_name": "Python 3",
   "language": "python",
   "name": "python3"
  },
  "language_info": {
   "codemirror_mode": {
    "name": "ipython",
    "version": 2
   },
   "file_extension": ".py",
   "mimetype": "text/x-python",
   "name": "python",
   "nbconvert_exporter": "python",
   "pygments_lexer": "ipython2",
   "version": "2.7.6"
  }
 },
 "nbformat": 4,
 "nbformat_minor": 5
}
